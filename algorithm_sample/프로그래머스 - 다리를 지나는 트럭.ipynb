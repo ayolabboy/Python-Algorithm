{
 "cells": [
  {
   "cell_type": "code",
   "execution_count": null,
   "metadata": {},
   "outputs": [],
   "source": [
    "'''\n",
    "https://programmers.co.kr/learn/courses/30/lessons/42583\n",
    "'''\n",
    "\n",
    "print(\"start\")"
   ]
  },
  {
   "cell_type": "code",
   "execution_count": 13,
   "metadata": {},
   "outputs": [],
   "source": [
    "import queue\n",
    "\n",
    "def solution(bridge_length, weight, truck_weights):\n",
    "    \n",
    "    truck_on_bridge = queue.Queue()\n",
    "    truck_on_wait = list(reversed(truck_weights)) ## 순서 뒤집기 \n",
    "\n",
    "    while len(truck_on_wait) > 0:\n",
    "        \n",
    "        ## 다리 위 총 무게 계산 >> 하중 무게보다 작다면 >> 리스트 팝업 후 큐에 삽입 \n",
    "        tmp_queue = truck_on_bridge\n",
    "        size = (tmp_queue.qsize())\n",
    "        tmp_SUM = 0\n",
    "        for i in range(0,size):\n",
    "            tmp_TOB = tmp_queue.get()\n",
    "            tmp_SUM += tmp_TOB[0]\n",
    "            print(tmp_SUM)\n",
    "            \n",
    "        if tmp_SUM <= weight:   \n",
    "        tmp_weight = truck_on_wait.pop()\n",
    "        tmp_position = 0\n",
    "        tmp_list = [tmp_weight,tmp_position]\n",
    "        truck_on_bridge.put(tmp_list)\n",
    "        \n",
    "        ## 큐에 있는 포지션 증가 \n",
    "        size = truck_on_bridge.qsize()\n",
    "        for i in range(0,size):\n",
    "            \n",
    "\n",
    "        \n",
    "        \n",
    "    \n",
    "    answer = 0\n",
    "    return answer"
   ]
  },
  {
   "cell_type": "code",
   "execution_count": 14,
   "metadata": {},
   "outputs": [
    {
     "name": "stdout",
     "output_type": "stream",
     "text": [
      "7\n",
      "11\n",
      "16\n",
      "22\n"
     ]
    },
    {
     "data": {
      "text/plain": [
       "0"
      ]
     },
     "execution_count": 14,
     "metadata": {},
     "output_type": "execute_result"
    }
   ],
   "source": [
    "\n",
    "\n",
    "bridge_length = 2\n",
    "weight = 10\n",
    "truck_weights = [7,4,5,6]\n",
    "\n",
    "solution(bridge_length,weight,truck_weights)\n",
    "\n"
   ]
  },
  {
   "cell_type": "code",
   "execution_count": null,
   "metadata": {},
   "outputs": [],
   "source": [
    "            \n",
    "        if tmp_SUM <= weight:   \n",
    "            tmp_weight = truck_on_wait.pop()\n",
    "            tmp_position = 0\n",
    "            tmp_list = [tmp_weight,tmp_position]\n",
    "            truck_on_bridge.put(tmp_list)\n",
    "        \n",
    "        ## 큐에 있는 포지션 증가 \n",
    "        size = (truck_on_bridge.qsize())\n",
    "        for i in range(0,size):\n",
    "            tmp_TOB = truck_on_bridge.get() \n",
    "            tmp_SUM += tmp_TOB[0]\n",
    "            print(tmp_SUM)\n",
    "\n"
   ]
  }
 ],
 "metadata": {
  "kernelspec": {
   "display_name": "Python 3",
   "language": "python",
   "name": "python3"
  },
  "language_info": {
   "codemirror_mode": {
    "name": "ipython",
    "version": 3
   },
   "file_extension": ".py",
   "mimetype": "text/x-python",
   "name": "python",
   "nbconvert_exporter": "python",
   "pygments_lexer": "ipython3",
   "version": "3.7.6"
  }
 },
 "nbformat": 4,
 "nbformat_minor": 4
}
