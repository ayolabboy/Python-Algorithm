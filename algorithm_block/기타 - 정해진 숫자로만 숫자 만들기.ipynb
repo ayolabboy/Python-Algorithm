{
 "cells": [
  {
   "cell_type": "code",
   "execution_count": null,
   "metadata": {},
   "outputs": [],
   "source": [
    "def solution(n):\n",
    "    num = ['1','2','4']\n",
    "    answer = \"\"\n",
    "\n",
    "    while n > 0:\n",
    "        n -= 1\n",
    "        answer = num[n % len(num)] + answer \n",
    "        n = n // len(num) \n",
    "\n",
    "        \n",
    "    return answer"
   ]
  },
  {
   "cell_type": "code",
   "execution_count": null,
   "metadata": {},
   "outputs": [],
   "source": [
    "solution(6)"
   ]
  },
  {
   "cell_type": "code",
   "execution_count": 3,
   "metadata": {},
   "outputs": [],
   "source": [
    "def solution(n):\n",
    "    num = ['1','3','5','7'] ## 이 부분을 수정하여 고정 수 설정 \n",
    "    answer = \"\"\n",
    "\n",
    "    while n > 0:\n",
    "        n -= 1\n",
    "        answer = num[n % len(num)] + answer \n",
    "        n = n // len(num) \n",
    "\n",
    "    return answer\n",
    "\n",
    "def loop(lst):\n",
    "    result = []\n",
    "    for i in lst:\n",
    "        result.append(solution(i))\n",
    "    \n",
    "    return result"
   ]
  },
  {
   "cell_type": "code",
   "execution_count": 4,
   "metadata": {
    "scrolled": true
   },
   "outputs": [
    {
     "data": {
      "text/plain": [
       "['',\n",
       " '1',\n",
       " '3',\n",
       " '5',\n",
       " '7',\n",
       " '11',\n",
       " '13',\n",
       " '15',\n",
       " '17',\n",
       " '31',\n",
       " '33',\n",
       " '35',\n",
       " '37',\n",
       " '51',\n",
       " '53',\n",
       " '55',\n",
       " '57',\n",
       " '71',\n",
       " '73',\n",
       " '75',\n",
       " '77',\n",
       " '111',\n",
       " '113',\n",
       " '115',\n",
       " '117',\n",
       " '131',\n",
       " '133',\n",
       " '135',\n",
       " '137',\n",
       " '151']"
      ]
     },
     "execution_count": 4,
     "metadata": {},
     "output_type": "execute_result"
    }
   ],
   "source": [
    "test_list = []\n",
    "for i in range(0,30):\n",
    "    test_list.append(i)\n",
    "    \n",
    "loop(test_list)"
   ]
  }
 ],
 "metadata": {
  "kernelspec": {
   "display_name": "Python 3",
   "language": "python",
   "name": "python3"
  },
  "language_info": {
   "codemirror_mode": {
    "name": "ipython",
    "version": 3
   },
   "file_extension": ".py",
   "mimetype": "text/x-python",
   "name": "python",
   "nbconvert_exporter": "python",
   "pygments_lexer": "ipython3",
   "version": "3.7.6"
  }
 },
 "nbformat": 4,
 "nbformat_minor": 4
}
