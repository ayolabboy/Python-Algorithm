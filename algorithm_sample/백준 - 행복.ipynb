{
 "cells": [
  {
   "cell_type": "code",
   "execution_count": 1,
   "metadata": {},
   "outputs": [
    {
     "name": "stdout",
     "output_type": "stream",
     "text": [
      "start\n"
     ]
    }
   ],
   "source": [
    "'''\n",
    "\n",
    "\n",
    "N명 학생들의 점수가 주어졌을 때, 가장 높은 점수와 가장 낮은 점수의 차이를 구하는 프로그램을 작성하시오.\n",
    "\n",
    "입력\n",
    "표준 입력으로 다음 정보가 주어진다. 첫 번째 줄에는 학생 수 N이 주어진다. \n",
    "다음 줄에는 N명의 학생 점수가 공백 하나를 사이에 두고 주어진다.\n",
    "\n",
    "출력\n",
    "표준 출력으로 가장 높은 점수와 가장 낮은 점수의 차이를 출력한다.\n",
    "\n",
    "제한\n",
    "모든 서브태스크에서 2 ≤ N ≤ 1,000이고 입력되는 학생들의 점수는 0 이상 1,000 이하의 정수이다.\n",
    "\n",
    "서브태스크 1 (23점)\n",
    "학생 수가 2명인 경우만 존재한다.\n",
    "\n",
    "서브태스크 2 (29점)\n",
    "점수가 낮은 점수부터 높은 점수까지 순서대로 주어진다.\n",
    "\n",
    "서브태스크 3 (48점)\n",
    "원래의 제약 조건 이외에 아무 제약 조건이 없다.\n",
    "\n",
    "예제 입력 1 \n",
    "5\n",
    "27 35 92 75 42\n",
    "\n",
    "예제 출력 1 \n",
    "65\n",
    "\n",
    "예제 입력 2 \n",
    "8\n",
    "85 42 79 95 37 11 72 32\n",
    "\n",
    "예제 출력 2 \n",
    "84\n",
    "\n",
    "'''\n",
    "\n",
    "print('start')"
   ]
  },
  {
   "cell_type": "code",
   "execution_count": 6,
   "metadata": {
    "scrolled": true
   },
   "outputs": [
    {
     "name": "stdout",
     "output_type": "stream",
     "text": [
      "5\n",
      "27 35 92 75 42\n",
      "65\n"
     ]
    }
   ],
   "source": [
    "N, lst = input(),list(map(int,input().split()))\n",
    "\n",
    "max_lst = max(lst)\n",
    "min_lst = min(lst)\n",
    "\n",
    "dif_lst = max_lst - min_lst\n",
    "print(dif_lst)"
   ]
  },
  {
   "cell_type": "code",
   "execution_count": null,
   "metadata": {},
   "outputs": [],
   "source": []
  }
 ],
 "metadata": {
  "kernelspec": {
   "display_name": "Python 3",
   "language": "python",
   "name": "python3"
  },
  "language_info": {
   "codemirror_mode": {
    "name": "ipython",
    "version": 3
   },
   "file_extension": ".py",
   "mimetype": "text/x-python",
   "name": "python",
   "nbconvert_exporter": "python",
   "pygments_lexer": "ipython3",
   "version": "3.7.6"
  }
 },
 "nbformat": 4,
 "nbformat_minor": 4
}
