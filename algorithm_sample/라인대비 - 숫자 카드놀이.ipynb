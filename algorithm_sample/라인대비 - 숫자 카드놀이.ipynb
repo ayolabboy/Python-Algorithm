{
 "cells": [
  {
   "cell_type": "code",
   "execution_count": 1,
   "metadata": {},
   "outputs": [],
   "source": [
    "## 0 ~ 9 카드\n",
    "## 첫번 째 입력 숫자로 3자리 수를 \n",
    "## 결합하여 : 제일 작은거부터 큰거로 만듬 \n",
    "## 두번째 입력 : STOP \n",
    "## STOP을 외칠 타이밍의 만들어진 수를 출력 "
   ]
  },
  {
   "cell_type": "code",
   "execution_count": 50,
   "metadata": {},
   "outputs": [],
   "source": [
    "def solution(num,stop):\n",
    "    card_list = list(map(str,num.split(' ')))\n",
    "    card_list.sort()\n",
    "    \n",
    "    num_list= []\n",
    "    num_list.append(card_list[0] + card_list[1] + card_list[2])\n",
    "    num_list.append(card_list[0] + card_list[2] + card_list[1])\n",
    "    num_list.append(card_list[1] + card_list[0] + card_list[2])\n",
    "    num_list.append(card_list[1] + card_list[2] + card_list[0])    \n",
    "    num_list.append(card_list[2] + card_list[0] + card_list[1])\n",
    "    num_list.append(card_list[2] + card_list[1] + card_list[0])\n",
    "\n",
    "    \n",
    "    print(num_list)\n",
    "    return num_list[stop-1]\n",
    "    "
   ]
  },
  {
   "cell_type": "code",
   "execution_count": 51,
   "metadata": {},
   "outputs": [
    {
     "name": "stdout",
     "output_type": "stream",
     "text": [
      "['012', '021', '102', '120', '201', '210']\n"
     ]
    },
    {
     "data": {
      "text/plain": [
       "'201'"
      ]
     },
     "execution_count": 51,
     "metadata": {},
     "output_type": "execute_result"
    }
   ],
   "source": [
    "num = '1 0 2'\n",
    "stop = 5\n",
    "solution(num,stop)"
   ]
  },
  {
   "cell_type": "code",
   "execution_count": 26,
   "metadata": {},
   "outputs": [],
   "source": []
  },
  {
   "cell_type": "code",
   "execution_count": null,
   "metadata": {},
   "outputs": [],
   "source": []
  },
  {
   "cell_type": "code",
   "execution_count": null,
   "metadata": {},
   "outputs": [],
   "source": []
  }
 ],
 "metadata": {
  "kernelspec": {
   "display_name": "Python 3",
   "language": "python",
   "name": "python3"
  },
  "language_info": {
   "codemirror_mode": {
    "name": "ipython",
    "version": 3
   },
   "file_extension": ".py",
   "mimetype": "text/x-python",
   "name": "python",
   "nbconvert_exporter": "python",
   "pygments_lexer": "ipython3",
   "version": "3.7.6"
  }
 },
 "nbformat": 4,
 "nbformat_minor": 4
}
