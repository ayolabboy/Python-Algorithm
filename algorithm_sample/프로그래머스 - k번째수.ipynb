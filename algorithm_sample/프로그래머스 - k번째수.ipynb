{
 "cells": [
  {
   "cell_type": "code",
   "execution_count": 1,
   "metadata": {},
   "outputs": [
    {
     "name": "stdout",
     "output_type": "stream",
     "text": [
      "start\n"
     ]
    }
   ],
   "source": [
    "'''\n",
    "https://programmers.co.kr/learn/courses/30/lessons/42748?language=python3\n",
    "\n",
    "배열 array의 i번째 숫자부터 j번째 숫자까지 자르고 정렬했을 때, k번째에 있는 수를 구하려 합니다.\n",
    "\n",
    "예를 들어 array가 [1, 5, 2, 6, 3, 7, 4], i = 2, j = 5, k = 3이라면\n",
    "\n",
    "array의 2번째부터 5번째까지 자르면 [5, 2, 6, 3]입니다.\n",
    "1에서 나온 배열을 정렬하면 [2, 3, 5, 6]입니다.\n",
    "2에서 나온 배열의 3번째 숫자는 5입니다.\n",
    "배열 array, [i, j, k]를 원소로 가진 2차원 배열 commands가 매개변수로 주어질 때, \n",
    "commands의 모든 원소에 대해 앞서 설명한 연산을 적용했을 때 나온 결과를 배열에 담아 return 하도록 solution 함수를 작성해주세요.\n",
    "\n",
    "입출력 예\n",
    "array\t                 commands                        \treturn\n",
    "[1, 5, 2, 6, 3, 7, 4]\t[[2, 5, 3], [4, 4, 1], [1, 7, 3]]\t[5, 6, 3]\n",
    "\n",
    "'''\n",
    "print(\"start\")"
   ]
  },
  {
   "cell_type": "code",
   "execution_count": 28,
   "metadata": {},
   "outputs": [],
   "source": [
    "def solution(array, commands):\n",
    "    \n",
    "    result = []\n",
    "    for command in commands : \n",
    "        \n",
    "        tmp_command = array[command[0]-1:command[1]] ## 커멘드의 시작(0), 끝(1) 번호로 리스트 슬라이싱 \n",
    "        tmp_command.sort() ## 리스트 정렬\n",
    "        tmp_result = tmp_command[command[2]-1] ## 해당 위치 숫자(2) 추출\n",
    "        result.append(tmp_result) ## 결과 리스트에 어팬드        \n",
    "        \n",
    "    answer = result\n",
    "    return answer"
   ]
  },
  {
   "cell_type": "code",
   "execution_count": 29,
   "metadata": {},
   "outputs": [
    {
     "data": {
      "text/plain": [
       "[5, 6, 3]"
      ]
     },
     "execution_count": 29,
     "metadata": {},
     "output_type": "execute_result"
    }
   ],
   "source": [
    "array = [1, 5, 2, 6, 3, 7, 4]\n",
    "commands = [[2, 5, 3], [4, 4, 1], [1, 7, 3]]\n",
    "\n",
    "solution(array,commands)"
   ]
  },
  {
   "cell_type": "code",
   "execution_count": 35,
   "metadata": {},
   "outputs": [],
   "source": [
    "def solution(array, commands):\n",
    "    \n",
    "    result = []\n",
    "    for command in commands : \n",
    "        a,b,c = command  \n",
    "        result.append(sorted(array[a-1:b])[c-1])   \n",
    "        \n",
    "    answer = result\n",
    "    return answer\n",
    "\n"
   ]
  },
  {
   "cell_type": "code",
   "execution_count": 36,
   "metadata": {},
   "outputs": [
    {
     "data": {
      "text/plain": [
       "[5, 6, 3]"
      ]
     },
     "execution_count": 36,
     "metadata": {},
     "output_type": "execute_result"
    }
   ],
   "source": [
    "array = [1, 5, 2, 6, 3, 7, 4]\n",
    "commands = [[2, 5, 3], [4, 4, 1], [1, 7, 3]]\n",
    "\n",
    "solution(array,commands)"
   ]
  },
  {
   "cell_type": "code",
   "execution_count": null,
   "metadata": {},
   "outputs": [],
   "source": []
  }
 ],
 "metadata": {
  "kernelspec": {
   "display_name": "Python 3",
   "language": "python",
   "name": "python3"
  },
  "language_info": {
   "codemirror_mode": {
    "name": "ipython",
    "version": 3
   },
   "file_extension": ".py",
   "mimetype": "text/x-python",
   "name": "python",
   "nbconvert_exporter": "python",
   "pygments_lexer": "ipython3",
   "version": "3.7.6"
  }
 },
 "nbformat": 4,
 "nbformat_minor": 4
}
