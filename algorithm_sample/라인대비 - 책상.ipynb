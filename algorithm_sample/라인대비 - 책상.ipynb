{
 "cells": [
  {
   "cell_type": "code",
   "execution_count": null,
   "metadata": {},
   "outputs": [],
   "source": [
    "'''\n",
    "7\n",
    "1 0 1 0 0 0 1\n",
    "\n",
    "2\n",
    "\n",
    "빈자리에 앉게 될 때 가장 다른 학생과 거리가 먼 곳에 앉을 수 있도록 배정 \n",
    "그때 다른학생과의 거리를 출력하라\n",
    "'''\n",
    "print(\"start\")\n",
    "\n"
   ]
  },
  {
   "cell_type": "code",
   "execution_count": 31,
   "metadata": {},
   "outputs": [],
   "source": [
    "def solution(N,student_status):\n",
    "    \n",
    "    student_status_list = list(map(int,student_status.split(' ')))\n",
    "    \n",
    "    tmp_distance_left = 0\n",
    "    tmp_distance_right = 0 \n",
    "    tmp_max = 0\n",
    "    final_max = -1\n",
    "    for i in range(len(student_status_list)):\n",
    "        if student_status_list[i] == 0:\n",
    "            tmp_distance_left = 0\n",
    "            tmp_distance_right = 0 \n",
    "            left_way = i\n",
    "            right_way = i\n",
    "            tmp_max = 0\n",
    "            \n",
    "            right_way = right_way_finder(N,tmp_distance_right,right_way,student_status_list)\n",
    "            left_way = left_way_finder(N,tmp_distance_left,left_way,student_status_list)\n",
    "\n",
    "            tmp_max = max(right_way,left_way)\n",
    "        final_max = max(final_max,tmp_max)    \n",
    "\n",
    "    return final_max\n",
    "\n",
    "def right_way_finder(N,tmp_distance_right,right_way,student_status_list):\n",
    "    while right_way < N - 1 :\n",
    "        tmp_distance_right +=1\n",
    "        right_way +=1\n",
    "        if student_status_list[right_way] == 1:\n",
    "            tmp_distance_right -=1\n",
    "            return tmp_distance_right\n",
    "    return tmp_distance_right\n",
    "\n",
    "def left_way_finder(N,tmp_distance_left,left_way,student_status_list):\n",
    "    while left_way > 0 :\n",
    "        tmp_distance_left +=1 \n",
    "        left_way -=1\n",
    "        if student_status_list[left_way] == 1:\n",
    "            tmp_distance_left -=1\n",
    "            return tmp_distance_left\n",
    "    return tmp_distance_left\n",
    "    "
   ]
  },
  {
   "cell_type": "code",
   "execution_count": 32,
   "metadata": {},
   "outputs": [
    {
     "name": "stdout",
     "output_type": "stream",
     "text": [
      "4\n",
      "3\n",
      "2\n",
      "3\n",
      "4\n"
     ]
    },
    {
     "data": {
      "text/plain": [
       "4"
      ]
     },
     "execution_count": 32,
     "metadata": {},
     "output_type": "execute_result"
    }
   ],
   "source": [
    "N = 7\n",
    "status = '1 0 0 0 0 0 1'\n",
    "solution(N,status)"
   ]
  },
  {
   "cell_type": "code",
   "execution_count": null,
   "metadata": {},
   "outputs": [],
   "source": []
  },
  {
   "cell_type": "code",
   "execution_count": null,
   "metadata": {},
   "outputs": [],
   "source": []
  }
 ],
 "metadata": {
  "kernelspec": {
   "display_name": "Python 3",
   "language": "python",
   "name": "python3"
  },
  "language_info": {
   "codemirror_mode": {
    "name": "ipython",
    "version": 3
   },
   "file_extension": ".py",
   "mimetype": "text/x-python",
   "name": "python",
   "nbconvert_exporter": "python",
   "pygments_lexer": "ipython3",
   "version": "3.7.6"
  }
 },
 "nbformat": 4,
 "nbformat_minor": 4
}
