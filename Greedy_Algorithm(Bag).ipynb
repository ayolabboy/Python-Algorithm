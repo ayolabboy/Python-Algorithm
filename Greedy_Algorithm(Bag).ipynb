{
 "cells": [
  {
   "cell_type": "code",
   "execution_count": 1,
   "metadata": {},
   "outputs": [],
   "source": [
    "## 무게 제한이 k인 배낭에 최대 가치를 가지도록 물건을 넣는 문제\n",
    "## 각 물건은 무게(w)와 가치(v)로 표현될 수 있음"
   ]
  },
  {
   "cell_type": "code",
   "execution_count": 4,
   "metadata": {},
   "outputs": [],
   "source": [
    "data_list = [(10, 10), (15, 12), (20, 10), (25, 8), (30, 5)] ## weight, value\n",
    "data_list = sorted(data_list, key=lambda x: x[1] / x[0], reverse=True) ## key = 무게대비 가치(value /weight)의 높이"
   ]
  },
  {
   "cell_type": "code",
   "execution_count": 5,
   "metadata": {},
   "outputs": [
    {
     "data": {
      "text/plain": [
       "[(10, 10), (15, 12), (20, 10), (25, 8), (30, 5)]"
      ]
     },
     "execution_count": 5,
     "metadata": {},
     "output_type": "execute_result"
    }
   ],
   "source": [
    "data_list"
   ]
  },
  {
   "cell_type": "code",
   "execution_count": 8,
   "metadata": {},
   "outputs": [],
   "source": [
    "\n",
    "def get_max_value(data_list, capacity): ## data_list = 데이터 리스트, capacity = 용량 \n",
    "    data_list = sorted(data_list, key=lambda x: x[1] / x[0], reverse=True) ## key = 무게대비 가치(value /weight)의 높이\n",
    "    total_value = 0\n",
    "    details = list()\n",
    "    \n",
    "    for data in data_list: \n",
    "        if capacity - data[0] >=0 :             ## 공간에 여유가 있다면 전체 삽입\n",
    "            capacity -= data[0]                 ## 남은 용량 갱신 \n",
    "            total_value += data[1]              ## 가치 갱신\n",
    "            details.append([data[0],data[1],1])\n",
    "        else :                                  ## 공간에 여유가 없다면 일부만 삽입\n",
    "            fraction = capacity / data[0]       ## \n",
    "            total_value += data[1] * fraction            \n",
    "            details.append([data[0], data[1], fraction])\n",
    "            break\n",
    "    \n",
    "    return total_value,details"
   ]
  },
  {
   "cell_type": "code",
   "execution_count": 9,
   "metadata": {},
   "outputs": [
    {
     "data": {
      "text/plain": [
       "(24.5, [[10, 10, 1], [15, 12, 1], [20, 10, 0.25]])"
      ]
     },
     "execution_count": 9,
     "metadata": {},
     "output_type": "execute_result"
    }
   ],
   "source": [
    "data_list = [(10, 10), (15, 12), (20, 10), (25, 8), (30, 5)] ## weight, value\n",
    "get_max_value(data_list,30)"
   ]
  },
  {
   "cell_type": "code",
   "execution_count": null,
   "metadata": {},
   "outputs": [],
   "source": []
  }
 ],
 "metadata": {
  "kernelspec": {
   "display_name": "Python 3",
   "language": "python",
   "name": "python3"
  },
  "language_info": {
   "codemirror_mode": {
    "name": "ipython",
    "version": 3
   },
   "file_extension": ".py",
   "mimetype": "text/x-python",
   "name": "python",
   "nbconvert_exporter": "python",
   "pygments_lexer": "ipython3",
   "version": "3.7.6"
  }
 },
 "nbformat": 4,
 "nbformat_minor": 4
}
