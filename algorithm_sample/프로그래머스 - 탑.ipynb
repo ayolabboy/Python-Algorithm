{
 "cells": [
  {
   "cell_type": "code",
   "execution_count": 1,
   "metadata": {},
   "outputs": [
    {
     "name": "stdout",
     "output_type": "stream",
     "text": [
      "start\n"
     ]
    }
   ],
   "source": [
    "'''\n",
    "https://programmers.co.kr/learn/courses/30/lessons/42588\n",
    "\n",
    "\n",
    "[6,9,5,7,4]\t[0,0,2,2,4]\n",
    "\n",
    "\n",
    "'''\n",
    "print(\"start\")"
   ]
  },
  {
   "cell_type": "code",
   "execution_count": 50,
   "metadata": {},
   "outputs": [],
   "source": [
    "def solution(heights):\n",
    "    heights.reverse()\n",
    "    \n",
    "    result = []\n",
    "    for i in range(0,len(heights)): ## 0 ~ length of prices\n",
    "        RFR = 0 ## 수신 가능 여부 체크\n",
    "        \n",
    "        for j in range(i, len(heights)) : ## 현재 것을 기준으로 현재와 이후 숫자들과 비교 \n",
    "            if heights[i] < heights[j] : \n",
    "                result.append(len(heights) - j)\n",
    "                RFR = 1 ## 수신 가능 \n",
    "                break\n",
    "            \n",
    "        if RFR == 0 : ## 수신 불가 시 0 추가 \n",
    "            result.append(0)\n",
    "\n",
    "    result.reverse()\n",
    "    answer = result\n",
    "    return answer"
   ]
  },
  {
   "cell_type": "code",
   "execution_count": 51,
   "metadata": {},
   "outputs": [
    {
     "data": {
      "text/plain": [
       "[0, 0, 2, 2, 4]"
      ]
     },
     "execution_count": 51,
     "metadata": {},
     "output_type": "execute_result"
    }
   ],
   "source": [
    "heights = [6,9,5,7,4]\n",
    "\n",
    "solution(heights)"
   ]
  },
  {
   "cell_type": "code",
   "execution_count": null,
   "metadata": {},
   "outputs": [],
   "source": []
  },
  {
   "cell_type": "code",
   "execution_count": null,
   "metadata": {},
   "outputs": [],
   "source": []
  }
 ],
 "metadata": {
  "kernelspec": {
   "display_name": "Python 3",
   "language": "python",
   "name": "python3"
  },
  "language_info": {
   "codemirror_mode": {
    "name": "ipython",
    "version": 3
   },
   "file_extension": ".py",
   "mimetype": "text/x-python",
   "name": "python",
   "nbconvert_exporter": "python",
   "pygments_lexer": "ipython3",
   "version": "3.7.6"
  }
 },
 "nbformat": 4,
 "nbformat_minor": 4
}
