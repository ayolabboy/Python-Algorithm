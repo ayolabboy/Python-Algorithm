{
 "cells": [
  {
   "cell_type": "code",
   "execution_count": 25,
   "metadata": {},
   "outputs": [],
   "source": [
    "## 지불해야 하는 값이 4720원 일 때 [1원, 50원, 100원, 500원] 동전으로 동전의 수가 가장 적게 지불하시오\n",
    "## 가장 큰 동전부터 최대한 지불해야 하는 값을 채우는 방식으로 구현 가능\n",
    "\n",
    "## value = 가격\n",
    "## coin_list = 코인 리스트  \n",
    "def min_coin_count(value,coin_list):\n",
    "    total_coin_count = 0              ## 총 사용 된 코인 개수 \n",
    "    details = list() \n",
    "    coin_list.sort(reverse=True) \n",
    "    print(coin_list)\n",
    "    \n",
    "    for coin in coin_list:         ## 가장 큰 코인부터 반복 :: coin = 코인 가격 , coin_list : 코인 리스트  \n",
    "        coin_count = value // coin   ## 현재 사용 된 코인 개수 = (가격 / 동전) 의 몫\n",
    "        total_coin_count += coin_count ## 총 사용 된 코인 개수 갱신 \n",
    "        value -= coin_count * coin   ## 남은 가격 갱신 \n",
    "        details.append([coin,coin_count]) ## 어떤 동전이 얼마나 쓰였는지 확인하는 리스트\n",
    "        \n",
    "    return total_coin_count,details\n",
    "    "
   ]
  },
  {
   "cell_type": "code",
   "execution_count": 43,
   "metadata": {},
   "outputs": [
    {
     "name": "stdout",
     "output_type": "stream",
     "text": [
      "[500, 100, 50, 1]\n"
     ]
    },
    {
     "data": {
      "text/plain": [
       "(31, [[500, 9], [100, 2], [50, 0], [1, 20]])"
      ]
     },
     "execution_count": 43,
     "metadata": {},
     "output_type": "execute_result"
    }
   ],
   "source": [
    "coin_list = [500, 100, 50, 1]\n",
    "\n",
    "min_coin_count(4720,coin_list)\n",
    "\n",
    "#coin_count_using = min_coin_count(4720,coin_list)[0]\n",
    "#detail_using =  min_coin_count(4720,coin_list)[1]\n",
    "#print(coin_count_using)\n",
    "#print(detail_using[0][1])"
   ]
  },
  {
   "cell_type": "code",
   "execution_count": null,
   "metadata": {},
   "outputs": [],
   "source": []
  }
 ],
 "metadata": {
  "kernelspec": {
   "display_name": "Python 3",
   "language": "python",
   "name": "python3"
  },
  "language_info": {
   "codemirror_mode": {
    "name": "ipython",
    "version": 3
   },
   "file_extension": ".py",
   "mimetype": "text/x-python",
   "name": "python",
   "nbconvert_exporter": "python",
   "pygments_lexer": "ipython3",
   "version": "3.7.6"
  }
 },
 "nbformat": 4,
 "nbformat_minor": 4
}
