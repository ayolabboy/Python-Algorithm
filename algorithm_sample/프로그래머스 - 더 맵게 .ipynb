{
 "cells": [
  {
   "cell_type": "code",
   "execution_count": 1,
   "metadata": {},
   "outputs": [
    {
     "name": "stdout",
     "output_type": "stream",
     "text": [
      "start\n"
     ]
    }
   ],
   "source": [
    "'''\n",
    "https://programmers.co.kr/learn/courses/30/lessons/42626\n",
    "\n",
    "매운 것을 좋아하는 Leo는 모든 음식의 스코빌 지수를 K 이상으로 만들고 싶습니다. \n",
    "\n",
    "모든 음식의 스코빌 지수를 K 이상으로 만들기 위해 \n",
    "\n",
    "Leo는 스코빌 지수가 가장 낮은 두 개의 음식을 아래와 같이 특별한 방법으로 섞어 새로운 음식을 만듭니다.\n",
    "\n",
    "섞은 음식의 스코빌 지수 = 가장 맵지 않은 음식의 스코빌 지수 + (두 번째로 맵지 않은 음식의 스코빌 지수 * 2)\n",
    "\n",
    "Leo는 모든 음식의 스코빌 지수가 K 이상이 될 때까지 반복하여 섞습니다.\n",
    "\n",
    "Leo가 가진 음식의 스코빌 지수를 담은 배열 scoville과 원하는 스코빌 지수 K가 주어질 때,\n",
    "\n",
    "모든 음식의 스코빌 지수를 K 이상으로 만들기 위해 섞어야 하는 최소 횟수를 return 하도록 solution 함수를 작성해주세요.\n",
    "\n",
    "scoville\t            K   \t   return\n",
    "[1, 2, 3, 9, 10, 12]\t7   \t  2\n",
    "\n",
    "\n",
    "'''\n",
    "\n",
    "print(\"start\")"
   ]
  },
  {
   "cell_type": "code",
   "execution_count": 29,
   "metadata": {},
   "outputs": [],
   "source": [
    "def solution(scoville, k):\n",
    "    \n",
    "    cnt = 0\n",
    "    tmp_mixed_scoville = 0  \n",
    "    scoville.sort() ## scoville 정렬 \n",
    "    \n",
    "    while scoville[0] < k : \n",
    "        if len(scoville) == 0 :\n",
    "            return -1\n",
    "        \n",
    "        ## 섞은 음식의 스코빌 지수 =\n",
    "        ## 가장 맵지 않은 음식의 스코빌 지수 + (두 번째로 맵지 않은 음식의 스코빌 지수 * 2)\n",
    "        tmp_mixed_scoville = scoville[0] + scoville[1] * 2\n",
    "        \n",
    "        del(scoville[0:2]) ## 가장 맵지 않은 2개 삭제\n",
    "        scoville.insert(0, tmp_mixed_scoville) ## 섞은 것 맨앞에 삽입 \n",
    "        cnt += 1 \n",
    "        \n",
    "    answer = cnt\n",
    "    return answer"
   ]
  },
  {
   "cell_type": "code",
   "execution_count": 30,
   "metadata": {},
   "outputs": [
    {
     "data": {
      "text/plain": [
       "-1"
      ]
     },
     "execution_count": 30,
     "metadata": {},
     "output_type": "execute_result"
    }
   ],
   "source": [
    "scoville = [2, 1, 10, 7, 1, 12]\n",
    "k = 7\n",
    "\n",
    "solution(scoville,k)"
   ]
  },
  {
   "cell_type": "code",
   "execution_count": 38,
   "metadata": {},
   "outputs": [],
   "source": [
    "\n",
    "import heapq \n",
    "def solution(scoville, k): \n",
    "    answer = 0 \n",
    "    heapq.heapify(scoville)  \n",
    "    while scoville[0] :\n",
    "        if len(scoville)<2:\n",
    "            return -1\n",
    "        min1=heapq.heappop(scoville) \n",
    "        min2=heapq.heappop(scoville) \n",
    "        heapq.heappush(scoville,min1+min2*2) \n",
    "        answer+=1 \n",
    "    return answer\n"
   ]
  },
  {
   "cell_type": "code",
   "execution_count": 39,
   "metadata": {},
   "outputs": [
    {
     "data": {
      "text/plain": [
       "-1"
      ]
     },
     "execution_count": 39,
     "metadata": {},
     "output_type": "execute_result"
    }
   ],
   "source": [
    "scoville = [2, 1, 10, 7, 1, 12]\n",
    "k = 7\n",
    "\n",
    "solution(scoville,k)"
   ]
  },
  {
   "cell_type": "code",
   "execution_count": null,
   "metadata": {},
   "outputs": [],
   "source": []
  }
 ],
 "metadata": {
  "kernelspec": {
   "display_name": "Python 3",
   "language": "python",
   "name": "python3"
  },
  "language_info": {
   "codemirror_mode": {
    "name": "ipython",
    "version": 3
   },
   "file_extension": ".py",
   "mimetype": "text/x-python",
   "name": "python",
   "nbconvert_exporter": "python",
   "pygments_lexer": "ipython3",
   "version": "3.7.6"
  }
 },
 "nbformat": 4,
 "nbformat_minor": 4
}
