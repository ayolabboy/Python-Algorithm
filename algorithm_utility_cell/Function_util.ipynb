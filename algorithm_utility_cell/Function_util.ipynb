{
 "cells": [
  {
   "cell_type": "code",
   "execution_count": 9,
   "metadata": {},
   "outputs": [
    {
     "name": "stdout",
     "output_type": "stream",
     "text": [
      "1\n",
      "2\n",
      "6\n",
      "[1, 2, 3, 4, 5]\n"
     ]
    }
   ],
   "source": [
    "def add(a, b): \n",
    "    print(a)\n",
    "    print(b)\n",
    "    return a + b\n",
    "\n",
    "result = add(1,2)\n",
    "print(result * 2)\n",
    "\n",
    "def return_list(): \n",
    "    lists = [1,2,3,4,5]\n",
    "    return lists\n",
    "\n",
    "print(return_list())"
   ]
  },
  {
   "cell_type": "code",
   "execution_count": 8,
   "metadata": {},
   "outputs": [
    {
     "name": "stdout",
     "output_type": "stream",
     "text": [
      "1 2 3\n",
      "6\n",
      "1 2 3 4 5\n",
      "15\n"
     ]
    }
   ],
   "source": [
    "## 입력 매개변수의 수를 모를 떄 \n",
    "def add_many(*args):## 튜플로 만들어 실행 \n",
    "    result = 0 \n",
    "    print(*args)\n",
    "    for i in args: \n",
    "        result = result + i \n",
    "    return result \n",
    "\n",
    "result = add_many(1,2,3)\n",
    "print(result)\n",
    "result = add_many(1,2,3,4,5)\n",
    "print(result)"
   ]
  },
  {
   "cell_type": "code",
   "execution_count": null,
   "metadata": {},
   "outputs": [],
   "source": [
    "## 람다식\n",
    "add = lambda a, b: a+b\n",
    " result = add(3, 4)\n",
    "print(result)"
   ]
  }
 ],
 "metadata": {
  "kernelspec": {
   "display_name": "Python 3",
   "language": "python",
   "name": "python3"
  },
  "language_info": {
   "codemirror_mode": {
    "name": "ipython",
    "version": 3
   },
   "file_extension": ".py",
   "mimetype": "text/x-python",
   "name": "python",
   "nbconvert_exporter": "python",
   "pygments_lexer": "ipython3",
   "version": "3.7.6"
  }
 },
 "nbformat": 4,
 "nbformat_minor": 4
}
