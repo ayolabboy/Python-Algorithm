{
 "cells": [
  {
   "cell_type": "code",
   "execution_count": 15,
   "metadata": {},
   "outputs": [
    {
     "name": "stdout",
     "output_type": "stream",
     "text": [
      "5\n",
      "6\n",
      "7\n",
      "-------------\n",
      "5\n",
      "6\n",
      "8\n",
      "-------------\n",
      "5\n",
      "6\n",
      "9\n",
      "-------------\n",
      "5\n",
      "7\n",
      "8\n",
      "-------------\n",
      "5\n",
      "7\n",
      "9\n",
      "-------------\n",
      "5\n",
      "8\n",
      "9\n",
      "-------------\n",
      "6\n",
      "7\n",
      "8\n",
      "-------------\n",
      "6\n",
      "7\n",
      "9\n",
      "-------------\n",
      "6\n",
      "8\n",
      "9\n",
      "-------------\n",
      "7\n",
      "8\n",
      "9\n",
      "-------------\n"
     ]
    }
   ],
   "source": [
    "input_a = '5 6 7 8 9'\n",
    "\n",
    "sth_list = list(map(int, input_a.split(' '))) ## list(map(함수, 리스트)) :: card_list = [5,6,7,8,9]\n",
    "\n",
    "result = 0 \n",
    "length = len(sth_list)\n",
    "\n",
    "count = 0\n",
    "\n",
    "''' \n",
    "## 1개씩 \n",
    "for i in range(0, length):\n",
    "            print(sth_list[i]) \n",
    "            print(\"-------------\")\n",
    "\n",
    "## 2개씩\n",
    "for i in range(0, length):\n",
    "    for j in range(i+1, length):\n",
    "            print(sth_list[i]) \n",
    "            print(sth_list[j]) \n",
    "            print(\"-------------\")\n",
    "\n",
    "'''\n",
    "## 3개씩\n",
    "for i in range(0, length):\n",
    "    for j in range(i+1, length):\n",
    "        for k in range(j+1, length):\n",
    "            print(sth_list[i]) \n",
    "            print(sth_list[j]) \n",
    "            print(sth_list[k]) \n",
    "            print(\"-------------\")\n",
    "            \n",
    "\n",
    " "
   ]
  },
  {
   "cell_type": "code",
   "execution_count": null,
   "metadata": {},
   "outputs": [],
   "source": []
  },
  {
   "cell_type": "code",
   "execution_count": null,
   "metadata": {},
   "outputs": [],
   "source": []
  }
 ],
 "metadata": {
  "kernelspec": {
   "display_name": "Python 3",
   "language": "python",
   "name": "python3"
  },
  "language_info": {
   "codemirror_mode": {
    "name": "ipython",
    "version": 3
   },
   "file_extension": ".py",
   "mimetype": "text/x-python",
   "name": "python",
   "nbconvert_exporter": "python",
   "pygments_lexer": "ipython3",
   "version": "3.7.6"
  }
 },
 "nbformat": 4,
 "nbformat_minor": 4
}
