{
 "cells": [
  {
   "cell_type": "code",
   "execution_count": 1,
   "metadata": {},
   "outputs": [],
   "source": [
    "## basic\n",
    "def is_prime(n: int): \n",
    "    if n < 2: \n",
    "        return False \n",
    "    for i in range(2, n): \n",
    "        if n % i is 0: \n",
    "            return False \n",
    "    return True\n"
   ]
  },
  {
   "cell_type": "code",
   "execution_count": 2,
   "metadata": {},
   "outputs": [],
   "source": [
    "## faster version\n",
    "def is_prime_exception(n: int) -> bool: \n",
    "    if n < 2: \n",
    "        return False \n",
    "    elif n in (2, 3): \n",
    "        return True \n",
    "    elif n % 2 is 0 or n % 3 is 0: \n",
    "        return False \n",
    "    elif n < 9: \n",
    "        return True \n",
    "    \n",
    "    k, l = 5, n**0.5 \n",
    "    while k <= l: \n",
    "        if n % k is 0 or n % (k+2) is 0: \n",
    "            return False \n",
    "        k += 6 \n",
    "    return True\n"
   ]
  },
  {
   "cell_type": "code",
   "execution_count": null,
   "metadata": {},
   "outputs": [],
   "source": [
    "## 범위 내 소수 찾기 \n",
    "def solution(n) :\n",
    "    answer = 0\n",
    "    for i in range(n) : ## 범위를 변경하여 추출\n",
    "        n = i+1\n",
    "        result = is_prime(n)\n",
    "        if result == True:\n",
    "            answer +=1\n",
    "       \n",
    "    return answer\n",
    "\n",
    "def is_prime(n: int) -> bool: ## 단위 당 소수 확인 \n",
    "    if n < 2: \n",
    "        return False \n",
    "    elif n in (2, 3): \n",
    "        return True \n",
    "    elif n % 2 is 0 or n % 3 is 0: \n",
    "        return False \n",
    "    elif n < 9: \n",
    "        return True \n",
    "    \n",
    "    k, l = 5, n**0.5 \n",
    "    while k <= l: \n",
    "        if n % k is 0 or n % (k+2) is 0: \n",
    "            return False \n",
    "        k += 6 \n",
    "    return True\n"
   ]
  }
 ],
 "metadata": {
  "kernelspec": {
   "display_name": "Python 3",
   "language": "python",
   "name": "python3"
  },
  "language_info": {
   "codemirror_mode": {
    "name": "ipython",
    "version": 3
   },
   "file_extension": ".py",
   "mimetype": "text/x-python",
   "name": "python",
   "nbconvert_exporter": "python",
   "pygments_lexer": "ipython3",
   "version": "3.7.6"
  }
 },
 "nbformat": 4,
 "nbformat_minor": 4
}
