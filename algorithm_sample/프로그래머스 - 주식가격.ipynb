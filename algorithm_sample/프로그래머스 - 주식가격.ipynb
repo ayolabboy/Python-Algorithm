{
 "cells": [
  {
   "cell_type": "code",
   "execution_count": 1,
   "metadata": {},
   "outputs": [
    {
     "name": "stdout",
     "output_type": "stream",
     "text": [
      "start\n"
     ]
    }
   ],
   "source": [
    "'''\n",
    "https://programmers.co.kr/learn/courses/30/lessons/42584\n",
    "\n",
    "문제 설명\n",
    "초 단위로 기록된 주식가격이 담긴 배열 prices가 매개변수로 주어질 때,\n",
    "\n",
    "가격이 떨어지지 않은 기간은 몇 초인지를 return 하도록 solution 함수를 완성하세요.\n",
    "\n",
    "\n",
    "입출력 예\n",
    "c\t         return\n",
    "[1, 2, 3, 2, 3]\t[4, 3, 1, 1, 0]\n",
    "\n",
    "\n",
    "'''\n",
    "print(\"start\")"
   ]
  },
  {
   "cell_type": "code",
   "execution_count": 105,
   "metadata": {},
   "outputs": [],
   "source": [
    "def solution(prices):\n",
    "\n",
    "    result = []\n",
    "    for i in range(0,len(prices)): ## 0 ~ length of prices\n",
    "        s_point = 0 ## 포인트 초기화\n",
    "        for j in range(i+1, len(prices)) : ## 현재 것을 기준으로 다음 숫자들과 비교 \n",
    "            s_point +=1 ## 포인트 업\n",
    "            if prices[i] > prices[j] : ## 다음 숫자보다 현재 크면 break\n",
    "                break\n",
    "\n",
    "        result.append(s_point)\n",
    "        \n",
    "    answer = result\n",
    "    return answer"
   ]
  },
  {
   "cell_type": "code",
   "execution_count": 106,
   "metadata": {},
   "outputs": [
    {
     "data": {
      "text/plain": [
       "[4, 3, 1, 1, 0]"
      ]
     },
     "execution_count": 106,
     "metadata": {},
     "output_type": "execute_result"
    }
   ],
   "source": [
    "prices = [1, 2, 3, 2, 3]\n",
    "solution(prices)"
   ]
  },
  {
   "cell_type": "code",
   "execution_count": null,
   "metadata": {},
   "outputs": [],
   "source": []
  },
  {
   "cell_type": "code",
   "execution_count": null,
   "metadata": {},
   "outputs": [],
   "source": []
  }
 ],
 "metadata": {
  "kernelspec": {
   "display_name": "Python 3",
   "language": "python",
   "name": "python3"
  },
  "language_info": {
   "codemirror_mode": {
    "name": "ipython",
    "version": 3
   },
   "file_extension": ".py",
   "mimetype": "text/x-python",
   "name": "python",
   "nbconvert_exporter": "python",
   "pygments_lexer": "ipython3",
   "version": "3.7.6"
  }
 },
 "nbformat": 4,
 "nbformat_minor": 4
}
