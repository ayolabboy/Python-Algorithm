{
 "cells": [
  {
   "cell_type": "code",
   "execution_count": null,
   "metadata": {},
   "outputs": [],
   "source": [
    "## 무하유 테스트 \n",
    "def toCapCase(string):\n",
    "    str_list = string.split(' ')\n",
    "    print(str_list)\n",
    "    new_str = ''\n",
    "    for i in str_list:\n",
    "        new_str += \" \" + i.capitalize()\n",
    "        print(new_str)\n",
    "        \n",
    "    return new_str.lstrip()\n"
   ]
  },
  {
   "cell_type": "code",
   "execution_count": null,
   "metadata": {},
   "outputs": [],
   "source": [
    "str = \"How can mirrors be real if our eyes aren't real\"\n",
    "toCapCase(str)"
   ]
  },
  {
   "cell_type": "code",
   "execution_count": null,
   "metadata": {},
   "outputs": [],
   "source": [
    "def get_middle(str):\n",
    "    len_str = len(str) \n",
    "\n",
    "    if len_str % 2 == 0: \n",
    "        answer = str[int(len_str / 2)-1] + str[int((len_str / 2))] \n",
    "    else: \n",
    "        answer = str[int(len_str / 2)] \n",
    "        \n",
    "    return answer"
   ]
  },
  {
   "cell_type": "code",
   "execution_count": null,
   "metadata": {},
   "outputs": [],
   "source": [
    "get_middle(\"test\")"
   ]
  },
  {
   "cell_type": "code",
   "execution_count": null,
   "metadata": {},
   "outputs": [],
   "source": [
    "## 3의 배수 5의 배수 찾아 다 더하기 \n",
    "def solution(number):\n",
    "    sums = 0\n",
    "    for i in range(number):\n",
    "        if i % 3 == 0:         \n",
    "            sums += i\n",
    "        elif i % 5 == 0:       \n",
    "            sums += i\n",
    "\n",
    "    return sums"
   ]
  },
  {
   "cell_type": "code",
   "execution_count": null,
   "metadata": {},
   "outputs": [],
   "source": [
    "solution(200)"
   ]
  },
  {
   "cell_type": "code",
   "execution_count": null,
   "metadata": {},
   "outputs": [],
   "source": [
    "N, lst = input(),list(map(int,input().split()))\n"
   ]
  },
  {
   "cell_type": "code",
   "execution_count": null,
   "metadata": {},
   "outputs": [],
   "source": [
    "def order_weight(strng):\n",
    "    str_list = list(map(str,strng.split()))    \n",
    "    new_list = []\n",
    "    tmp_sum = 0\n",
    "    result = ''\n",
    "    for num in str_list:\n",
    "        for digit in num:\n",
    "            tmp_sum += int(digit)\n",
    "\n",
    "        result += \",\" + str(tmp_sum)\n",
    "        tmp_sum = 0\n",
    "   \n",
    "    return result[1:]"
   ]
  },
  {
   "cell_type": "code",
   "execution_count": null,
   "metadata": {},
   "outputs": [],
   "source": [
    "order_weight(\"2000 103 123 4444 99\")"
   ]
  },
  {
   "cell_type": "code",
   "execution_count": null,
   "metadata": {},
   "outputs": [],
   "source": [
    "def high_order_bitmask(word_size):\n",
    "    half_size = word_size / 2\n",
    "    tmp_sum = 0\n",
    "    for i in range(int(half_size)):\n",
    "        word_size -= 1\n",
    "        tmp_sum += 2 ** word_size\n",
    "    \n",
    "    return tmp_sum"
   ]
  },
  {
   "cell_type": "code",
   "execution_count": null,
   "metadata": {},
   "outputs": [],
   "source": [
    "high_order_bitmask(4)"
   ]
  },
  {
   "cell_type": "code",
   "execution_count": null,
   "metadata": {},
   "outputs": [],
   "source": [
    "print(2**8)"
   ]
  },
  {
   "cell_type": "code",
   "execution_count": 45,
   "metadata": {},
   "outputs": [],
   "source": [
    "def validBraces(string):\n",
    "    left_stack = []\n",
    "    right_stack = []\n",
    "    \n",
    "    left_list = ['(','[','{']\n",
    "    right_list = [')',']','}']\n",
    "    arr_list = ['()','[]','{}','}{','][',')(']\n",
    "    \n",
    "    for i in string:\n",
    "        if i in left_list:\n",
    "            left_stack.append(i)\n",
    "        elif i in right_list:\n",
    "            right_stack.append(i)\n",
    "\n",
    "    if len(left_stack) != len(right_stack):\n",
    "        return False  \n",
    "    \n",
    "    for idx in range(len(left_stack)):\n",
    "        tmp_arr = left_stack.pop() + right_stack[idx]\n",
    "        print(tmp_arr)\n",
    "        if tmp_arr not in arr_list:\n",
    "            return False\n",
    "\n",
    "    return True"
   ]
  },
  {
   "cell_type": "code",
   "execution_count": 46,
   "metadata": {},
   "outputs": [
    {
     "name": "stdout",
     "output_type": "stream",
     "text": [
      "[}\n"
     ]
    },
    {
     "data": {
      "text/plain": [
       "False"
      ]
     },
     "execution_count": 46,
     "metadata": {},
     "output_type": "execute_result"
    }
   ],
   "source": [
    "validBraces( \"{}()[]\" )"
   ]
  },
  {
   "cell_type": "code",
   "execution_count": null,
   "metadata": {},
   "outputs": [],
   "source": []
  },
  {
   "cell_type": "code",
   "execution_count": null,
   "metadata": {
    "scrolled": true
   },
   "outputs": [],
   "source": [
    "left_list = ['(','[','{']\n",
    "right_list = [')',']','}']\n",
    "left_list.pop() + right_list.pop()"
   ]
  },
  {
   "cell_type": "code",
   "execution_count": null,
   "metadata": {},
   "outputs": [],
   "source": []
  }
 ],
 "metadata": {
  "kernelspec": {
   "display_name": "Python 3",
   "language": "python",
   "name": "python3"
  },
  "language_info": {
   "codemirror_mode": {
    "name": "ipython",
    "version": 3
   },
   "file_extension": ".py",
   "mimetype": "text/x-python",
   "name": "python",
   "nbconvert_exporter": "python",
   "pygments_lexer": "ipython3",
   "version": "3.7.6"
  }
 },
 "nbformat": 4,
 "nbformat_minor": 4
}
