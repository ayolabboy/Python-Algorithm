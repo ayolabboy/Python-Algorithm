{
 "cells": [
  {
   "cell_type": "code",
   "execution_count": 1,
   "metadata": {},
   "outputs": [
    {
     "name": "stdout",
     "output_type": "stream",
     "text": [
      "start\n"
     ]
    }
   ],
   "source": [
    "'''\n",
    "https://programmers.co.kr/learn/courses/30/lessons/12935\n",
    "\n",
    "정수를 저장한 배열, arr 에서 가장 작은 수를 제거한 배열을 리턴하는 함수, solution을 완성해주세요. \n",
    "\n",
    "단, 리턴하려는 배열이 빈 배열인 경우엔 배열에 -1을 채워 리턴하세요. \n",
    "\n",
    "예를들어 arr이 [4,3,2,1]인 경우는 [4,3,2]를 리턴 하고, [10]면 [-1]을 리턴 합니다.\n",
    "\n",
    "arr \treturn\n",
    "[4,3,2,1]\t[4,3,2]\n",
    "[10]\t[-1]\n",
    "\n",
    "list [1,2,3,1,2,3,4,4,1,2,4,2]\n",
    "\n",
    "## sorting을 tmp하게 돌려 가장 작은값과 인덱스를 찾는다.\n",
    "## 그 인덱스 안의 값을 제거한다. \n",
    "## 리스트의 길이가 0이면 -1을 리턴한다.\n",
    "\n",
    "\n",
    "'''\n",
    "print(\"start\")"
   ]
  },
  {
   "cell_type": "code",
   "execution_count": 46,
   "metadata": {},
   "outputs": [],
   "source": [
    "def solution(arr):\n",
    "    tmp_arr = sorted(arr,reverse=True) ## 변수 역순 저장  \n",
    "    tmp_min = tmp_arr.pop() \n",
    "    \n",
    "    ## 최소 값 찾는 루프\n",
    "    for idx, data in enumerate(arr):\n",
    "        if data == tmp_min: ## 최소 값 발견시 \n",
    "            del(arr[idx]) ## 인덱스에 해당하는 값 삭제 \n",
    "    \n",
    "    if len(arr) == 0: ## 예외처리 \n",
    "        answer = [-1]\n",
    "    else : ## 결과 삽입\n",
    "        answer = arr\n",
    "    return answer"
   ]
  },
  {
   "cell_type": "code",
   "execution_count": 47,
   "metadata": {},
   "outputs": [
    {
     "data": {
      "text/plain": [
       "[4, 2, 3]"
      ]
     },
     "execution_count": 47,
     "metadata": {},
     "output_type": "execute_result"
    }
   ],
   "source": [
    "arr = [4,1,2,3]\n",
    "\n",
    "solution(arr)"
   ]
  },
  {
   "cell_type": "code",
   "execution_count": null,
   "metadata": {},
   "outputs": [],
   "source": []
  },
  {
   "cell_type": "code",
   "execution_count": null,
   "metadata": {},
   "outputs": [],
   "source": []
  }
 ],
 "metadata": {
  "kernelspec": {
   "display_name": "Python 3",
   "language": "python",
   "name": "python3"
  },
  "language_info": {
   "codemirror_mode": {
    "name": "ipython",
    "version": 3
   },
   "file_extension": ".py",
   "mimetype": "text/x-python",
   "name": "python",
   "nbconvert_exporter": "python",
   "pygments_lexer": "ipython3",
   "version": "3.7.6"
  }
 },
 "nbformat": 4,
 "nbformat_minor": 4
}
