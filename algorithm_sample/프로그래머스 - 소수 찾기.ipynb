{
 "cells": [
  {
   "cell_type": "code",
   "execution_count": 20,
   "metadata": {},
   "outputs": [],
   "source": [
    "def is_prime(n: int) -> bool: \n",
    "    if n < 2: \n",
    "        return False \n",
    "    elif n in (2, 3): \n",
    "        return True \n",
    "    elif n % 2 is 0 or n % 3 is 0: \n",
    "        return False \n",
    "    elif n < 9: \n",
    "        return True \n",
    "    \n",
    "    k, l = 5, n**0.5 \n",
    "    while k <= l: \n",
    "        if n % k is 0 or n % (k+2) is 0: \n",
    "            return False \n",
    "        k += 6 \n",
    "    return True\n"
   ]
  },
  {
   "cell_type": "code",
   "execution_count": 21,
   "metadata": {},
   "outputs": [
    {
     "data": {
      "text/plain": [
       "False"
      ]
     },
     "execution_count": 21,
     "metadata": {},
     "output_type": "execute_result"
    }
   ],
   "source": [
    "is_prime(4)"
   ]
  },
  {
   "cell_type": "code",
   "execution_count": 22,
   "metadata": {},
   "outputs": [],
   "source": [
    "def is_prime(n: int): \n",
    "    if n < 2: \n",
    "        return False \n",
    "    for i in range(2, n): \n",
    "        if n % i is 0: \n",
    "            return False \n",
    "    return True\n"
   ]
  },
  {
   "cell_type": "code",
   "execution_count": 23,
   "metadata": {},
   "outputs": [
    {
     "data": {
      "text/plain": [
       "False"
      ]
     },
     "execution_count": 23,
     "metadata": {},
     "output_type": "execute_result"
    }
   ],
   "source": [
    "is_prime(4)"
   ]
  },
  {
   "cell_type": "code",
   "execution_count": 64,
   "metadata": {},
   "outputs": [],
   "source": [
    "def solution(n) :\n",
    "    answer = 0\n",
    "    for j in range(n) :\n",
    "        n = j+1\n",
    "        prime_checker = True\n",
    "        \n",
    "        if n < 2 : \n",
    "            prime_checker = False\n",
    "        else :   \n",
    "            for i in range(2, n): \n",
    "                if n % i is 0: \n",
    "                    prime_checker = False \n",
    "                    \n",
    "        if prime_checker == True :\n",
    "            answer +=1\n",
    "       \n",
    "    return answer"
   ]
  },
  {
   "cell_type": "code",
   "execution_count": 66,
   "metadata": {},
   "outputs": [
    {
     "data": {
      "text/plain": [
       "4"
      ]
     },
     "execution_count": 66,
     "metadata": {},
     "output_type": "execute_result"
    }
   ],
   "source": [
    "solution(10)"
   ]
  },
  {
   "cell_type": "code",
   "execution_count": 68,
   "metadata": {},
   "outputs": [],
   "source": [
    "def solution(n) :\n",
    "    answer = 0\n",
    "    for i in range(n) :\n",
    "        n = i+1\n",
    "        result = is_prime(n)\n",
    "        if result == True:\n",
    "            answer +=1\n",
    "       \n",
    "    return answer\n",
    "\n",
    "def is_prime(n: int) -> bool: \n",
    "    if n < 2: \n",
    "        return False \n",
    "    elif n in (2, 3): \n",
    "        return True \n",
    "    elif n % 2 is 0 or n % 3 is 0: \n",
    "        return False \n",
    "    elif n < 9: \n",
    "        return True \n",
    "    \n",
    "    k, l = 5, n**0.5 \n",
    "    while k <= l: \n",
    "        if n % k is 0 or n % (k+2) is 0: \n",
    "            return False \n",
    "        k += 6 \n",
    "    return True\n"
   ]
  },
  {
   "cell_type": "code",
   "execution_count": 70,
   "metadata": {},
   "outputs": [
    {
     "data": {
      "text/plain": [
       "3"
      ]
     },
     "execution_count": 70,
     "metadata": {},
     "output_type": "execute_result"
    }
   ],
   "source": [
    "solution(5)\n"
   ]
  },
  {
   "cell_type": "code",
   "execution_count": null,
   "metadata": {},
   "outputs": [],
   "source": []
  }
 ],
 "metadata": {
  "kernelspec": {
   "display_name": "Python 3",
   "language": "python",
   "name": "python3"
  },
  "language_info": {
   "codemirror_mode": {
    "name": "ipython",
    "version": 3
   },
   "file_extension": ".py",
   "mimetype": "text/x-python",
   "name": "python",
   "nbconvert_exporter": "python",
   "pygments_lexer": "ipython3",
   "version": "3.7.6"
  }
 },
 "nbformat": 4,
 "nbformat_minor": 4
}
