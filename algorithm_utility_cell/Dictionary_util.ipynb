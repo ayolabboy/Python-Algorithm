{
 "cells": [
  {
   "cell_type": "code",
   "execution_count": 8,
   "metadata": {},
   "outputs": [
    {
     "name": "stdout",
     "output_type": "stream",
     "text": [
      "{'name': 'pey', 'phone': '0119993323', 'birth': '1118'}\n",
      "pey\n",
      "0119993323\n"
     ]
    }
   ],
   "source": [
    "## 딕셔너리 선언 및 출력\n",
    "dic = {'name':'pey', 'phone':'0119993323', 'birth': '1118'}\n",
    "print(dic)\n",
    "print(dic['name'])\n",
    "print(dic['phone'])\n"
   ]
  },
  {
   "cell_type": "code",
   "execution_count": 4,
   "metadata": {},
   "outputs": [
    {
     "name": "stdout",
     "output_type": "stream",
     "text": [
      "{'name': 'Aman'}\n",
      "{'name': 'Aman', 'age': 99}\n"
     ]
    }
   ],
   "source": [
    "## 딕셔너리 추가\n",
    "a = {'name':'Aman'}\n",
    "print(a)\n",
    "a['age'] = 99\n",
    "print(a)\n",
    "\n"
   ]
  },
  {
   "cell_type": "code",
   "execution_count": 5,
   "metadata": {},
   "outputs": [
    {
     "name": "stdout",
     "output_type": "stream",
     "text": [
      "{}\n"
     ]
    }
   ],
   "source": [
    "## 딕셔너리 삭제\n",
    "a = {'name':'Aman'}\n",
    "del a['name']\n",
    "print(a)"
   ]
  },
  {
   "cell_type": "code",
   "execution_count": 13,
   "metadata": {},
   "outputs": [
    {
     "name": "stdout",
     "output_type": "stream",
     "text": [
      "dict_keys(['name', 'phone', 'birth'])\n",
      "name is pey\n",
      "phone is 0119993323\n",
      "birth is 1118\n"
     ]
    }
   ],
   "source": [
    "## 딕셔너리 키 추출\n",
    "a = {'name': 'pey', 'phone': '0119993323', 'birth': '1118'}\n",
    "b = a.keys()\n",
    "print(b)\n",
    "\n",
    "for k in a.keys():\n",
    "    print(k,\"is\", a[k])"
   ]
  },
  {
   "cell_type": "code",
   "execution_count": 16,
   "metadata": {},
   "outputs": [
    {
     "name": "stdout",
     "output_type": "stream",
     "text": [
      "['name', 'phone', 'birth']\n",
      "['pey', '0119993323', '1118']\n",
      "dict_items([('name', 'pey'), ('phone', '0119993323'), ('birth', '1118')])\n"
     ]
    }
   ],
   "source": [
    "## 딕셔너리 키, 밸류 추출 후 리스트에 저장 \n",
    "a = {'name': 'pey', 'phone': '0119993323', 'birth': '1118'}\n",
    "key_a = list(a.keys())\n",
    "values_a = list(a.values())\n",
    "print(key_a)\n",
    "print(values_a)\n",
    "\n",
    "arr_a = a.items()\n",
    "print(arr_a)\n"
   ]
  },
  {
   "cell_type": "code",
   "execution_count": 18,
   "metadata": {},
   "outputs": [
    {
     "name": "stdout",
     "output_type": "stream",
     "text": [
      "True\n",
      "False\n"
     ]
    }
   ],
   "source": [
    "## 키 존재 여부 파악\n",
    "a = {'name': 'pey', 'phone': '0119993323', 'birth': '1118'}\n",
    "\n",
    "print('name' in a)\n",
    "print('sex' in a)"
   ]
  },
  {
   "cell_type": "code",
   "execution_count": null,
   "metadata": {},
   "outputs": [],
   "source": [
    "\n",
    "a = {'name': 'pey', 'phone': '0119993323', 'birth': '1118'}\n",
    "print(a.get('name',0)) ## get(x, '디폴트 값'), 딕셔너리 안에 찾으려는 Key 값이 없을 경우 디폴트 값으로 대체 \n",
    "\n",
    "print(a.get('sex',0)) ## get(x, '디폴트 값'), 딕셔너리 안에 찾으려는 Key 값이 없을 경우 디폴트 값으로 대체 \n"
   ]
  }
 ],
 "metadata": {
  "kernelspec": {
   "display_name": "Python 3",
   "language": "python",
   "name": "python3"
  },
  "language_info": {
   "codemirror_mode": {
    "name": "ipython",
    "version": 3
   },
   "file_extension": ".py",
   "mimetype": "text/x-python",
   "name": "python",
   "nbconvert_exporter": "python",
   "pygments_lexer": "ipython3",
   "version": "3.7.6"
  }
 },
 "nbformat": 4,
 "nbformat_minor": 4
}
