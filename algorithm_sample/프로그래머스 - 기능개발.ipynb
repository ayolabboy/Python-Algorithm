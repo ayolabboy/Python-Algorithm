{
 "cells": [
  {
   "cell_type": "code",
   "execution_count": null,
   "metadata": {},
   "outputs": [],
   "source": [
    "'''\n",
    "각 기능의 개발속도는 모두 다르기 때문에 뒤에 있는 기능이 앞에 있는 기능보다 먼저 개발될 수 있고, \n",
    "\n",
    "이때 뒤에 있는 기능은 앞에 있는 기능이 배포될 때 함께 배포됩니다.\n",
    "\n",
    "먼저 배포되어야 하는 순서대로 작업의 진도가 적힌 정수 배열 progresses와 \n",
    "\n",
    "각 작업의 개발 속도가 적힌 정수 배열 speeds가 주어질 때 \n",
    "\n",
    "각 배포마다 몇 개의 기능이 배포되는지를 return 하도록 solution 함수를 완성하세요.\n",
    "\n",
    "progresses\tspeeds\treturn\n",
    "\n",
    "[93,30,55]\t[1,30,5]\t[2,1]\n",
    "\n",
    "'''\n",
    "print(\"start\")"
   ]
  },
  {
   "cell_type": "code",
   "execution_count": 18,
   "metadata": {},
   "outputs": [],
   "source": [
    "import queue\n",
    "\n",
    "def solution(progresses, speeds):\n",
    "    answer = []\n",
    "    date_queue = queue.Queue()\n",
    "    \n",
    "    for i in range(len(progresses)):\n",
    "        tmp = left_day(progresses[i],speeds[i])\n",
    "        date_queue.put(tmp)\n",
    "        \n",
    "    size = date_queue.qsize() \n",
    "    peak_point = date_queue.get()\n",
    "    cnt = 1\n",
    "    for i in range(1,size):\n",
    "        crr_point = date_queue.get()\n",
    "        \n",
    "        if peak_point >= crr_point:\n",
    "            cnt +=1            \n",
    "        else:\n",
    "            answer.append(cnt)\n",
    "            peak_point = crr_point\n",
    "            cnt = 1\n",
    "\n",
    "        if i == size -1:\n",
    "            answer.append(cnt)\n",
    "            \n",
    "    return answer\n",
    "\n",
    "def left_day(progress,speed):\n",
    "    \n",
    "    crr_day = 0 \n",
    "    while progress < 100 :\n",
    "        progress += speed \n",
    "        crr_day +=1\n",
    "\n",
    "    return crr_day\n",
    "\n",
    "    \n",
    "    "
   ]
  },
  {
   "cell_type": "code",
   "execution_count": 19,
   "metadata": {},
   "outputs": [
    {
     "data": {
      "text/plain": [
       "[3, 3]"
      ]
     },
     "execution_count": 19,
     "metadata": {},
     "output_type": "execute_result"
    }
   ],
   "source": [
    "test_progresses = [93,99,30,55,99,98]\n",
    "test_speeds = [1,1,30,5,1,1]\n",
    "solution(test_progresses,test_speeds)\n"
   ]
  },
  {
   "cell_type": "code",
   "execution_count": 20,
   "metadata": {},
   "outputs": [
    {
     "data": {
      "text/plain": [
       "[2, 1]"
      ]
     },
     "execution_count": 20,
     "metadata": {},
     "output_type": "execute_result"
    }
   ],
   "source": [
    "\n",
    "progresses = [93,30,55]\n",
    "speeds = [1,30,5]\n",
    "solution(progresses,speeds)"
   ]
  },
  {
   "cell_type": "code",
   "execution_count": null,
   "metadata": {},
   "outputs": [],
   "source": [
    "\n"
   ]
  },
  {
   "cell_type": "code",
   "execution_count": null,
   "metadata": {},
   "outputs": [],
   "source": []
  }
 ],
 "metadata": {
  "kernelspec": {
   "display_name": "Python 3",
   "language": "python",
   "name": "python3"
  },
  "language_info": {
   "codemirror_mode": {
    "name": "ipython",
    "version": 3
   },
   "file_extension": ".py",
   "mimetype": "text/x-python",
   "name": "python",
   "nbconvert_exporter": "python",
   "pygments_lexer": "ipython3",
   "version": "3.7.6"
  }
 },
 "nbformat": 4,
 "nbformat_minor": 4
}
