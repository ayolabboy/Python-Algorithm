{
 "cells": [
  {
   "cell_type": "code",
   "execution_count": 2,
   "metadata": {},
   "outputs": [
    {
     "name": "stdout",
     "output_type": "stream",
     "text": [
      "start\n"
     ]
    }
   ],
   "source": [
    "'''\n",
    "https://programmers.co.kr/learn/courses/30/lessons/42585\n",
    "\n",
    "문제 설명\n",
    "여러 개의 쇠막대기를 레이저로 절단하려고 합니다. \n",
    "효율적인 작업을 위해서 쇠막대기를 아래에서 위로 겹쳐 놓고, \n",
    "레이저를 위에서 수직으로 발사하여 쇠막대기들을 자릅니다. \n",
    "\n",
    "쇠막대기와 레이저의 배치는 다음 조건을 만족합니다.\n",
    "\n",
    "- 쇠막대기는 자신보다 긴 쇠막대기 위에만 놓일 수 있습니다.\n",
    "- 쇠막대기를 다른 쇠막대기 위에 놓는 경우 완전히 포함되도록 놓되, 끝점은 겹치지 않도록 놓습니다.\n",
    "- 각 쇠막대기를 자르는 레이저는 적어도 하나 존재합니다.\n",
    "- 레이저는 어떤 쇠막대기의 양 끝점과도 겹치지 않습니다.\n",
    "\n",
    "(a) 레이저는 여는 괄호와 닫는 괄호의 인접한 쌍 '()'으로 표현합니다. \n",
    "또한 모든 '()'는 반드시 레이저를 표현합니다.\n",
    "\n",
    "(b) 쇠막대기의 왼쪽 끝은 여는 괄호 '('로, 오른쪽 끝은 닫힌 괄호 ')'로 표현됩니다.\n",
    "\n",
    "입출력 예\n",
    "arrangement \t        return\n",
    "()(((()())(())()))(()) \t17\n",
    "\n",
    "\n",
    "'''\n",
    "print(\"start\")"
   ]
  },
  {
   "cell_type": "code",
   "execution_count": 34,
   "metadata": {},
   "outputs": [],
   "source": [
    "def solution(arrangement):\n",
    "    answer = 0\n",
    "    sticks = 0\n",
    "    rasor_to_zero = arrangement.replace('()','0')\n",
    "\n",
    "    for i in rasor_to_zero:\n",
    "        if i == '(':\n",
    "            sticks += 1\n",
    "        elif i =='0' :\n",
    "            answer += sticks\n",
    "        else :\n",
    "            sticks -= 1\n",
    "            answer += 1\n",
    "\n",
    "    return answer"
   ]
  },
  {
   "cell_type": "code",
   "execution_count": 35,
   "metadata": {},
   "outputs": [
    {
     "data": {
      "text/plain": [
       "11"
      ]
     },
     "execution_count": 35,
     "metadata": {},
     "output_type": "execute_result"
    }
   ],
   "source": [
    "arrangement = \"()(( (()()) (())()))(())\"\n",
    "solution(arrangement)"
   ]
  },
  {
   "cell_type": "code",
   "execution_count": null,
   "metadata": {},
   "outputs": [],
   "source": []
  }
 ],
 "metadata": {
  "kernelspec": {
   "display_name": "Python 3",
   "language": "python",
   "name": "python3"
  },
  "language_info": {
   "codemirror_mode": {
    "name": "ipython",
    "version": 3
   },
   "file_extension": ".py",
   "mimetype": "text/x-python",
   "name": "python",
   "nbconvert_exporter": "python",
   "pygments_lexer": "ipython3",
   "version": "3.7.6"
  }
 },
 "nbformat": 4,
 "nbformat_minor": 4
}
