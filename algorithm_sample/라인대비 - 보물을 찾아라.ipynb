{
 "cells": [
  {
   "cell_type": "code",
   "execution_count": null,
   "metadata": {},
   "outputs": [],
   "source": [
    "## 맵의 세로, 가로크기가 주어짐\n",
    "## 보물의 세로, 가로 위치가 주어짐\n",
    "## 0,0부터 보물까지 \n",
    "## 최단시간 , 경우의 수 출력 "
   ]
  },
  {
   "cell_type": "code",
   "execution_count": 23,
   "metadata": {},
   "outputs": [],
   "source": [
    "def solution(N,M,a,b):\n",
    "    \n",
    "    shortest = a + b\n",
    "    method = factorial(a+b)/(factorial(a)*factorial(b))\n",
    "    return shortest,int(method)\n",
    "\n",
    "def factorial(num):\n",
    "    result = 1\n",
    "    while num > 1:\n",
    "        result *= num\n",
    "        num -=1\n",
    "    return result"
   ]
  },
  {
   "cell_type": "code",
   "execution_count": 25,
   "metadata": {},
   "outputs": [
    {
     "data": {
      "text/plain": [
       "(5, 10)"
      ]
     },
     "execution_count": 25,
     "metadata": {},
     "output_type": "execute_result"
    }
   ],
   "source": [
    "N = 9 ## 세로\n",
    "M = 9 ## 가로\n",
    "a = 2 ## 보물 세로 좌표\n",
    "b = 3 ## 보물 가로 좌표\n",
    "solution(N,M,a,b)"
   ]
  },
  {
   "cell_type": "code",
   "execution_count": 26,
   "metadata": {},
   "outputs": [
    {
     "data": {
      "text/plain": [
       "24"
      ]
     },
     "execution_count": 26,
     "metadata": {},
     "output_type": "execute_result"
    }
   ],
   "source": [
    "factorial(4)"
   ]
  },
  {
   "cell_type": "code",
   "execution_count": null,
   "metadata": {},
   "outputs": [],
   "source": []
  }
 ],
 "metadata": {
  "kernelspec": {
   "display_name": "Python 3",
   "language": "python",
   "name": "python3"
  },
  "language_info": {
   "codemirror_mode": {
    "name": "ipython",
    "version": 3
   },
   "file_extension": ".py",
   "mimetype": "text/x-python",
   "name": "python",
   "nbconvert_exporter": "python",
   "pygments_lexer": "ipython3",
   "version": "3.7.6"
  }
 },
 "nbformat": 4,
 "nbformat_minor": 4
}
