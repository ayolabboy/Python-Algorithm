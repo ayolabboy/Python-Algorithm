{
 "cells": [
  {
   "cell_type": "code",
   "execution_count": 1,
   "metadata": {},
   "outputs": [
    {
     "name": "stdout",
     "output_type": "stream",
     "text": [
      "start\n"
     ]
    }
   ],
   "source": [
    "'''\n",
    "문제\n",
    "N개의 정수 A[1], A[2], …, A[N]이 주어져 있을 때, 이 안에 X라는 정수가 존재하는지 알아내는 프로그램을 작성하시오.\n",
    "\n",
    "입력\n",
    "첫째 줄에 자연수 N(1≤N≤100,000)이 주어진다. 다음 줄에는 N개의 정수 A[1], A[2], …, A[N]이 주어진다. \n",
    "다음 줄에는 M(1≤M≤100,000)이 주어진다. 다음 줄에는 M개의 수들이 주어지는데, \n",
    "이 수들이 A안에 존재하는지 알아내면 된다. 모든 정수의 범위는 -231 보다 크거나 같고 231보다 작다.\n",
    "\n",
    "출력\n",
    "M개의 줄에 답을 출력한다. 존재하면 1을, 존재하지 않으면 0을 출력한다.\n",
    "\n",
    "예제 입력 1 \n",
    "5\n",
    "4 1 5 2 3\n",
    "5\n",
    "1 3 7 9 5\n",
    "\n",
    "예제 출력 1 \n",
    "1\n",
    "1\n",
    "0\n",
    "0\n",
    "1\n",
    "'''\n",
    "print(\"start\")"
   ]
  },
  {
   "cell_type": "code",
   "execution_count": 6,
   "metadata": {},
   "outputs": [
    {
     "name": "stdout",
     "output_type": "stream",
     "text": [
      "5\n",
      "4 1 5 2 3\n",
      "5\n",
      "1 3 7 9 5\n",
      "1\n",
      "1\n",
      "0\n",
      "0\n",
      "1\n"
     ]
    }
   ],
   "source": [
    "## 인풋 저장\n",
    "N, N_list = input(),list(map(int,input().split()))\n",
    "M, M_list = input(),list(map(int,input().split()))\n",
    "        \n",
    "for m_data in M_list:\n",
    "    result = 0\n",
    "    for n_data in N_list:\n",
    "        if m_data == n_data:\n",
    "            result = 1        \n",
    "    print(result)     \n",
    " "
   ]
  },
  {
   "cell_type": "code",
   "execution_count": 11,
   "metadata": {},
   "outputs": [
    {
     "name": "stdout",
     "output_type": "stream",
     "text": [
      "5\n",
      "4 1 5 2 3\n",
      "5\n",
      "1 3 7 9 5\n",
      "{4: 1, 1: 1, 5: 1, 2: 1, 3: 1}\n",
      "[1, 3, 7, 9, 5]\n",
      "1\n",
      "1\n",
      "0\n",
      "0\n",
      "1\n"
     ]
    }
   ],
   "source": [
    "## Q\n",
    "N = int(input())\n",
    "A = {i: 1 for i in map(int, input().split())} ## key에 카운팅 된 넘버, value에 1 삽입하여 딕셔너리 생성\n",
    "## A \n",
    "M = input()\n",
    "B = list(map(int,input().split())) \n",
    "\n",
    "print(A)\n",
    "print(B)\n",
    "for i in B:\n",
    "    print(A.get(i,0)) ## get(x, '디폴트 값'), 딕셔너리 안에 찾으려는 Key 값이 없을 경우 디폴트 값으로 대체 "
   ]
  },
  {
   "cell_type": "code",
   "execution_count": null,
   "metadata": {},
   "outputs": [],
   "source": []
  }
 ],
 "metadata": {
  "kernelspec": {
   "display_name": "Python 3",
   "language": "python",
   "name": "python3"
  },
  "language_info": {
   "codemirror_mode": {
    "name": "ipython",
    "version": 3
   },
   "file_extension": ".py",
   "mimetype": "text/x-python",
   "name": "python",
   "nbconvert_exporter": "python",
   "pygments_lexer": "ipython3",
   "version": "3.7.6"
  }
 },
 "nbformat": 4,
 "nbformat_minor": 4
}
