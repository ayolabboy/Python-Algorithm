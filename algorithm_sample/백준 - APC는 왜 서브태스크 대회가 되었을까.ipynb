{
 "cells": [
  {
   "cell_type": "code",
   "execution_count": 1,
   "metadata": {},
   "outputs": [
    {
     "name": "stdout",
     "output_type": "stream",
     "text": [
      "start\n"
     ]
    }
   ],
   "source": [
    "'''\n",
    "현정이는 L 만큼의 역량을 가지고 있어 L보다 작거나 같은 난이도의 문제를 풀 수 있다. 또한 현정이는 코딩이 느리기 때문에 대회 시간이 부족해 K개보다 많은 문제는 해결할 수 없다. 어떤 문제에 대해 쉬운 버전을 해결한다면 100점을 얻고, 어려운 버전을 해결한다면 여기에 40점을 더 받아 140점을 얻게 된다. 어려운 버전을 해결하면 쉬운 버전도 같이 풀리게 되므로, 한 문제를 해결한 것으로 계산한다.\n",
    "\n",
    "현정이가 APC에 참가했다면 최대 몇점을 얻을 수 있었을지 알려주자.\n",
    "\n",
    "입력\n",
    "첫 줄에 문제의 개수 N, 현정이의 역량 L, 현정이가 대회중에 풀 수 있는 문제의 최대 개수 K가 주어진다.\n",
    "\n",
    "둘째 줄부터 N개의 줄에 걸쳐 1 ~ N번째 문제의 쉬운 버전의 난이도 sub1, 어려운 버전의 난이도 sub2 가 순서대로 주어진다.\n",
    "\n",
    "출력\n",
    "현정이가 APC에 참가했다면 얻었을 점수의 최대값을 출력한다.\n",
    "\n",
    "제한\n",
    "1 ≤ N ≤ 100\n",
    "1 ≤ L ≤ 50\n",
    "1 ≤ sub1 ≤ sub2 ≤ 50\n",
    "\n",
    "서브태스크 1 (100점)\n",
    "K = N\n",
    "\n",
    "서브태스크 2 (40점)\n",
    "0 ≤ K ≤ N\n",
    "\n",
    "예제 입력 1 \n",
    "4 8 4\n",
    "1 8   역량이 5이면 하드를 못풀고 이지만 푼게됨 \n",
    "4 5   역량이 5이면 하드도 풀고 이지도 푼거니까 하드 푼걸로 포함 \n",
    "6 20  역량이 5이면 둘 다 못 푼거\n",
    "9 12\n",
    "\n",
    "예제 출력 1 \n",
    "380\n",
    "\n",
    "'''\n",
    "print('start')"
   ]
  },
  {
   "cell_type": "code",
   "execution_count": 13,
   "metadata": {
    "scrolled": true
   },
   "outputs": [
    {
     "name": "stdout",
     "output_type": "stream",
     "text": [
      "4 8 4\n",
      "1 8\n",
      "4 5\n",
      "6 20\n",
      "9 12\n",
      "380\n"
     ]
    }
   ],
   "source": [
    "## 인풋 저장\n",
    "## N : 문제의 개수\n",
    "## L : 현정이 역량\n",
    "## K : 문제의 최대 개수 K\n",
    "N, L, K = map(int,input().split())\n",
    "\n",
    "easy = 0\n",
    "hard = 0\n",
    "\n",
    "for i in range(N) :\n",
    "    \n",
    "    ## sub1 : easy\n",
    "    ## sub2 : hard\n",
    "    sub1, sub2 = map(int,input().split()) \n",
    "    \n",
    "    if sub2 <= L : ## 역량이 하드보다 크면\n",
    "        hard +=1 \n",
    "    elif sub1 <= L : ## 역량이 이지보다 크면 \n",
    "        easy +=1\n",
    "        \n",
    "## hard\n",
    "ans = min(hard,K) * 140 \n",
    "\n",
    "## easy\n",
    "if hard < K : ## 시간 내 풀 수 있는 문제가 하드 푼 문제보다 크면 나머지만큼 이지 푼 개수 추가 \n",
    "    ans += min(K-hard, max(0,easy)) * 100 \n",
    "\n",
    "## 결과 출력\n",
    "print(ans)\n"
   ]
  },
  {
   "cell_type": "code",
   "execution_count": null,
   "metadata": {},
   "outputs": [],
   "source": [
    "4 8 4\n",
    "1 8\n",
    "4 5\n",
    "6 20\n",
    "9 12"
   ]
  }
 ],
 "metadata": {
  "kernelspec": {
   "display_name": "Python 3",
   "language": "python",
   "name": "python3"
  },
  "language_info": {
   "codemirror_mode": {
    "name": "ipython",
    "version": 3
   },
   "file_extension": ".py",
   "mimetype": "text/x-python",
   "name": "python",
   "nbconvert_exporter": "python",
   "pygments_lexer": "ipython3",
   "version": "3.7.6"
  }
 },
 "nbformat": 4,
 "nbformat_minor": 4
}
