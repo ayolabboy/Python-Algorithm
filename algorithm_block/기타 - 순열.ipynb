{
 "cells": [
  {
   "cell_type": "code",
   "execution_count": 2,
   "metadata": {
    "scrolled": false
   },
   "outputs": [
    {
     "name": "stdout",
     "output_type": "stream",
     "text": [
      "['A', 'B', 'C', 'D']\n",
      "['AB', 'AC', 'AD', 'BA', 'BC', 'BD', 'CA', 'CB', 'CD', 'DA', 'DB', 'DC']\n",
      "['ABC', 'ABD', 'ACB', 'ACD', 'ADB', 'ADC', 'BAC', 'BAD', 'BCA', 'BCD', 'BDA', 'BDC', 'CAB', 'CAD', 'CBA', 'CBD', 'CDA', 'CDB', 'DAB', 'DAC', 'DBA', 'DBC', 'DCA', 'DCB']\n",
      "['ABCD', 'ABDC', 'ACBD', 'ACDB', 'ADBC', 'ADCB', 'BACD', 'BADC', 'BCAD', 'BCDA', 'BDAC', 'BDCA', 'CABD', 'CADB', 'CBAD', 'CBDA', 'CDAB', 'CDBA', 'DABC', 'DACB', 'DBAC', 'DBCA', 'DCAB', 'DCBA']\n"
     ]
    }
   ],
   "source": [
    "from itertools import permutations \n",
    "items = ['A', 'B', 'C', 'D']\n",
    "#print(list(map(''.join, permutations(items)))) # items의 모든 원소를 가지고 순열을 만든다. \n",
    "\n",
    "print(list(map(''.join, permutations(items, 1)))) # 2개의 원소를 가지고 순열을 만든다\n",
    "print(list(map(''.join, permutations(items, 2)))) # 2개의 원소를 가지고 순열을 만든다\n",
    "print(list(map(''.join, permutations(items, 3)))) # 2개의 원소를 가지고 순열을 만든다\n",
    "print(list(map(''.join, permutations(items, 4)))) # 2개의 원소를 가지고 순열을 만든다\n"
   ]
  },
  {
   "cell_type": "code",
   "execution_count": null,
   "metadata": {},
   "outputs": [],
   "source": [
    "from itertools import permutations \n",
    "items = [1,2,3,4]\n",
    "#print(list(map(''.join, permutations(items)))) # items의 모든 원소를 가지고 순열을 만든다. \n",
    "\n",
    "print(list(map(''.join, permutations(items, 1)))) # 2개의 원소를 가지고 순열을 만든다\n",
    "print(list(map(''.join, permutations(items, 2)))) # 2개의 원소를 가지고 순열을 만든다\n",
    "print(list(map(''.join, permutations(items, 3)))) # 2개의 원소를 가지고 순열을 만든다\n",
    "print(list(map(''.join, permutations(items, 4)))) # 2개의 원소를 가지고 순열을 만든다\n"
   ]
  },
  {
   "cell_type": "code",
   "execution_count": 13,
   "metadata": {},
   "outputs": [
    {
     "name": "stdout",
     "output_type": "stream",
     "text": [
      "['ABCD']\n"
     ]
    }
   ],
   "source": [
    "from itertools import combinations \n",
    "\n",
    "items = ['A', 'B', 'C', 'D'] \n",
    "print(list(map(''.join, combinations(items, 4)))) # 조합을 만들려는 아이템과 조합의 수를 반드시넘겨줘야한다.\n",
    "\n"
   ]
  },
  {
   "cell_type": "code",
   "execution_count": 26,
   "metadata": {},
   "outputs": [
    {
     "name": "stdout",
     "output_type": "stream",
     "text": [
      "[(1,), (2,), (3,), (4,)]\n",
      "[(1, 2), (1, 3), (1, 4), (2, 3), (2, 4), (3, 4)]\n",
      "[(1, 2, 3), (1, 2, 4), (1, 3, 4), (2, 3, 4)]\n",
      "[(1, 2, 3, 4)]\n"
     ]
    }
   ],
   "source": [
    "from itertools import combinations \n",
    "\n",
    "items = [1,2,3,4] \n",
    "a= list(combinations(items, 1))\n",
    "b= list(combinations(items, 2))\n",
    "c= list(combinations(items, 3))\n",
    "d= list(combinations(items, 4))\n",
    "print(a)\n",
    "print(b)\n",
    "print(c)\n",
    "print(d)"
   ]
  },
  {
   "cell_type": "code",
   "execution_count": 25,
   "metadata": {},
   "outputs": [
    {
     "name": "stdout",
     "output_type": "stream",
     "text": [
      "['A', 'B', 'C', 'D']\n",
      "['AB', 'AC', 'AD', 'BC', 'BD', 'CD']\n",
      "['ABC', 'ABD', 'ACD', 'BCD']\n",
      "['ABCD']\n"
     ]
    }
   ],
   "source": [
    "from itertools import combinations \n",
    "\n",
    "items = ['A', 'B', 'C', 'D'] \n",
    "\n",
    "for i in range(1, len(items)+1): \n",
    "    print(list(map(''.join, combinations(items, i)))) # 조합을 만들려는 아이템과 조합의 수를 반드시넘겨줘야한다."
   ]
  },
  {
   "cell_type": "code",
   "execution_count": null,
   "metadata": {},
   "outputs": [],
   "source": []
  },
  {
   "cell_type": "code",
   "execution_count": null,
   "metadata": {},
   "outputs": [],
   "source": []
  }
 ],
 "metadata": {
  "kernelspec": {
   "display_name": "Python 3",
   "language": "python",
   "name": "python3"
  },
  "language_info": {
   "codemirror_mode": {
    "name": "ipython",
    "version": 3
   },
   "file_extension": ".py",
   "mimetype": "text/x-python",
   "name": "python",
   "nbconvert_exporter": "python",
   "pygments_lexer": "ipython3",
   "version": "3.7.6"
  }
 },
 "nbformat": 4,
 "nbformat_minor": 4
}
