{
 "cells": [
  {
   "cell_type": "code",
   "execution_count": 2,
   "metadata": {},
   "outputs": [
    {
     "name": "stdout",
     "output_type": "stream",
     "text": [
      "ttt abcd\n",
      "tatbtcd\n"
     ]
    }
   ],
   "source": [
    "A, B = input().split()\n",
    "\n",
    "AB = ''\n",
    "min_len = min(len(A),len(B))\n",
    "for i in range(min_len):\n",
    "    AB += A[i] + B[i]\n",
    "\n",
    "## 남는 부분 결합 \n",
    "AB += A[min_len:] + B[min_len:]\n",
    "print(AB)"
   ]
  },
  {
   "cell_type": "code",
   "execution_count": null,
   "metadata": {},
   "outputs": [],
   "source": [
    "A, B, C = input().split()\n",
    "\n",
    "ABC = ''\n",
    "min_len = min(len(A),len(B),len(C))\n",
    "max_len = max(len(A),len(B),len(C))\n",
    "\n",
    "\n",
    "for i in range(min_len):\n",
    "    ABC += A[i] + B[i] + B[i]\n",
    "\n",
    "## 남는 부분 결합 \n",
    "AB += A[min_len:] + B[min_len:]\n",
    "print(AB)"
   ]
  }
 ],
 "metadata": {
  "kernelspec": {
   "display_name": "Python 3",
   "language": "python",
   "name": "python3"
  },
  "language_info": {
   "codemirror_mode": {
    "name": "ipython",
    "version": 3
   },
   "file_extension": ".py",
   "mimetype": "text/x-python",
   "name": "python",
   "nbconvert_exporter": "python",
   "pygments_lexer": "ipython3",
   "version": "3.7.6"
  }
 },
 "nbformat": 4,
 "nbformat_minor": 4
}
