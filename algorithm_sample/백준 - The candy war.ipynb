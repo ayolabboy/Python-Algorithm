{
 "cells": [
  {
   "cell_type": "code",
   "execution_count": 2,
   "metadata": {},
   "outputs": [
    {
     "name": "stdout",
     "output_type": "stream",
     "text": [
      "start\n"
     ]
    }
   ],
   "source": [
    "'''\n",
    "\n",
    "말로 타일러도 아이들이 말을 듣지 않자 영희는 한 가지 놀이를 제안했다. \n",
    "\n",
    "일단 모든 아이들이 원으로 둘러 앉는다. \n",
    "\n",
    "그리고 모든 아이들은 동시에 자기가 가지고 있는 사탕의 절반을 오른쪽 아이에게 준다. \n",
    "\n",
    "만약 이 결과 홀수개의 사탕을 가지게 된 아이가 있을 경우 선생님이 한 개를 보충해 짝수로 만들어 주기로 했다. \n",
    "\n",
    "흥미로워 보이는 이 놀이에 아이들은 참여 했고 이 과정을 몇 번 거치자 자연스럽게 \n",
    "\n",
    "모든 아이들이 같은 수의 사탕을 가지게 되어 소란은 종료되었다.\n",
    "\n",
    "자기가 가진 사탕의 반을 옆에 오른쪽에 앉은 아이에게 주는 과정과 선생님이 사탕을 보충해 주는 과정을 묶어서 \n",
    "\n",
    "1 순환이라고 할 때 몇 번의 순환을 거치면 모든 아이들이 같은 수의 사탕을 가지게 되는지 계산 해보자. \n",
    "\n",
    "단, 처음부터 홀수개의 사탕을 가지고 있으면 선생님이 짝수로 보충을 먼저 해주며 이 경우 순환수에 들어가지 않는다. \n",
    "\n",
    "선생님은 충분한 수의 사탕을 갖고 있다고 가정하자.\n",
    "\n",
    "입력\n",
    "입력은 표준입력(standard input)을 통해 받아들인다. \n",
    "\n",
    "입력의 첫 줄에는 테스트 케이스의 개수 T가 주어진다. \n",
    "\n",
    "각각의 테스트 케이스의 첫 줄에는 아이의 인원 N (1 ≤ N ≤ 10)이 주어지고 \n",
    "\n",
    "그 다음 줄에는 각 아이들이 초기에 가지고 있는 사탕의 개수 Ci ( 1 ≤ i ≤ N, 1 ≤ Ci ≤ 30)가 주어진다. \n",
    "\n",
    "분배 시 C1의 오른쪽에는 C2가, C2의 오른쪽에는 C3가…… 같은 식으로 앉게 되며 CN의 오른쪽에는 C1이 앉게 된다.\n",
    "\n",
    "출력\n",
    "출력은 표준출력(standard output)을 통하여 출력한다. \n",
    "\n",
    "각 테스트 케이스에 대하여 모든 아이가 같은 개수의 사탕을 가질 때까지 몇 순환이 걸리는지 출력하시오.\n",
    "\n",
    "예제 입력 1 \n",
    "4\n",
    "5\n",
    "2 4 7 8 9\n",
    "1\n",
    "9\n",
    "6\n",
    "10 5 13 2 7 8\n",
    "4\n",
    "3 4 4 3\n",
    "\n",
    "예제 출력 1 \n",
    "\n",
    "6\n",
    "0\n",
    "4\n",
    "0\n",
    "'''\n",
    "\n",
    "print('start')"
   ]
  },
  {
   "cell_type": "code",
   "execution_count": 5,
   "metadata": {
    "scrolled": true
   },
   "outputs": [
    {
     "name": "stdout",
     "output_type": "stream",
     "text": [
      "6\n",
      "10 5 13 2 7 8\n",
      "4\n"
     ]
    }
   ],
   "source": [
    "\n",
    "def candy_process():\n",
    "    N = int(input()) ## 아이의 수 \n",
    "    candy = list(map(int,input().split())) ## 아이들이 초기에 갖고 있는 사팅의 수 \n",
    "    cnt = 0 \n",
    "    \n",
    "    while not check(N,candy):        \n",
    "        cnt += 1 \n",
    "        candy = teacher(N, candy)\n",
    "    print(cnt)\n",
    "    \n",
    "def check(N,candy):\n",
    "    for i in range(N):\n",
    "        if candy[i] % 2 == 1:\n",
    "            candy[i] += 1\n",
    "    return len(set(candy)) == 1 ## set은 중복허용 안하니까, 길이가 1이면 중복 X        \n",
    "    \n",
    "def teacher(N,candy):\n",
    "    tmp_list =[0 for i in range(N)]\n",
    "    for idx in range(N):\n",
    "        if candy[idx] % 2 :\n",
    "            candy[idx] +=1\n",
    "        candy[idx] //= 2\n",
    "        tmp_list[(idx+1)%N] = candy[idx]\n",
    "        \n",
    "    for idx in range(N):\n",
    "        candy[idx] += tmp_list[idx]\n",
    "        \n",
    "    return candy\n",
    "        \n",
    "    \n",
    "## 인풋 저장\n",
    "#T = int(input()) ## 테스트 케이스\n",
    "\n",
    "#for i in range(T):\n",
    "    #candy_process()\n",
    "    \n",
    "candy_process()\n"
   ]
  },
  {
   "cell_type": "code",
   "execution_count": null,
   "metadata": {},
   "outputs": [],
   "source": []
  },
  {
   "cell_type": "code",
   "execution_count": null,
   "metadata": {},
   "outputs": [],
   "source": []
  }
 ],
 "metadata": {
  "kernelspec": {
   "display_name": "Python 3",
   "language": "python",
   "name": "python3"
  },
  "language_info": {
   "codemirror_mode": {
    "name": "ipython",
    "version": 3
   },
   "file_extension": ".py",
   "mimetype": "text/x-python",
   "name": "python",
   "nbconvert_exporter": "python",
   "pygments_lexer": "ipython3",
   "version": "3.7.6"
  }
 },
 "nbformat": 4,
 "nbformat_minor": 4
}
