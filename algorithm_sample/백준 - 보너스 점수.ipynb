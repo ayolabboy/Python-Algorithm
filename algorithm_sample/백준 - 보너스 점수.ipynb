{
 "cells": [
  {
   "cell_type": "code",
   "execution_count": 2,
   "metadata": {},
   "outputs": [
    {
     "name": "stdout",
     "output_type": "stream",
     "text": [
      "start\n"
     ]
    }
   ],
   "source": [
    "'''\n",
    "문제는 뒤로 갈수록 어려워지기 때문에, i 번 문제의 기본 점수는 i 점이다.\n",
    "    - 문제를 맞히면 그 문제의 기본 점수(즉 i 번 문제의 경우 i 점)를 획득하며, 틀리면 얻지 못한다.\n",
    "    \n",
    "기본 점수와 별개로, '보너스 점수'라는 값이 존재한다. 이는 처음에는 0점이다.\n",
    "    - 문제를 맞히면 그 때의 '보너스 점수'를 획득하고, '보너스 점수'의 값이 1점 증가한다.\n",
    "    - 문제를 틀리면 '보너스 점수'를 얻지 못하고, '보너스 점수'의 값이 0점으로 초기화된다.\n",
    "\n",
    "\n",
    "입력\n",
    "첫 번째 줄에 OX표의 길이인 자연수 N이 주어진다. (1 ≤ N ≤ 10,000)\n",
    "\n",
    "두 번째 줄에 OX표를 의미하는 문자열 S가 주어진다. \n",
    "S는 O(알파벳 대문자 O, ASCII 코드 79)와 X(알파벳 대문자 X, ASCII 코드 88)로만 구성되어 있으며, 길이는 N이다.\n",
    "\n",
    "문자열 S의 i 번째 글자가 O이면 해당 참가자가 i 번째 문제를 맞혔음을 의미하고, X이면 틀렸음을 의미한다.\n",
    "\n",
    "출력\n",
    "첫 번째 줄에 입력으로 들어온 OX표의 점수를 출력한다.\n",
    "\n",
    "\n",
    "예제 입력 1 \n",
    "8\n",
    "XOOOXOOX\n",
    "\n",
    "예제 출력 1 \n",
    "26\n",
    "\n",
    "민성이는 다음과 같이 총 26점을 받게 된다.\n",
    "\n",
    "1번 문제를 틀렸으므로 점수를 얻지 못하고 보너스 점수가 0점으로 초기화된다. (총 점수 0점)\n",
    "2번 문제를 맞혔으므로 기본 점수 2점과 보너스 점수 0점을 획득하며, 보너스 점수가 1점으로 증가한다. (총 점수 2점)\n",
    "3번 문제를 맞혔으므로 기본 점수 3점과 보너스 점수 1점을 획득하며, 보너스 점수가 2점으로 증가한다. (총 점수 6점)\n",
    "4번 문제를 맞혔으므로 기본 점수 4점과 보너스 점수 2점을 획득하며, 보너스 점수가 3점으로 증가한다. (총 점수 12점)\n",
    "5번 문제를 틀렸으므로 점수를 얻지 못하고 보너스 점수가 0점으로 초기화된다. (총 점수 12점)\n",
    "6번 문제를 맞혔으므로 기본 점수 6점과 보너스 점수 0점을 획득하며, 보너스 점수가 1점으로 증가한다. (총 점수 18점)\n",
    "7번 문제를 맞혔으므로 기본 점수 7점과 보너스 점수 1점을 획득하며, 보너스 점수가 2점으로 증가한다. (총 점수 26점)\n",
    "8번 문제를 틀렸으므로 점수를 얻지 못하고 보너스 점수가 0점으로 초기화된다. (총 점수 26점)\n",
    "'''\n",
    "print('start')\n",
    " "
   ]
  },
  {
   "cell_type": "code",
   "execution_count": 9,
   "metadata": {},
   "outputs": [
    {
     "name": "stdout",
     "output_type": "stream",
     "text": [
      "8\n",
      "XOOOXOOX\n",
      "0\n",
      "2\n",
      "6\n",
      "12\n",
      "12\n",
      "18\n",
      "26\n",
      "26\n"
     ]
    }
   ],
   "source": [
    "## 인풋 저장\n",
    "N = input()\n",
    "S = input()\n",
    "\n",
    "answer_arr = []\n",
    "score = 0\n",
    "question_num = 1\n",
    "bonus_score = 0\n",
    "\n",
    "for i in S:\n",
    "    answer_arr.append(i)\n",
    "\n",
    "for answer in answer_arr:\n",
    "    if answer == 'O' :\n",
    "        score += question_num ## 해당 문제 번호 만큼 스코어 증가  \n",
    "        if bonus_score >= 0: ## 보너스가 0보다 크면 \n",
    "            score += bonus_score ## 스코어에 보너스 추가\n",
    "        bonus_score += 1 ## 정답을 맞췄으므로 보너스 증가 \n",
    "    else :\n",
    "        bonus_score = 0 ## 보너스 초기화 \n",
    "    \n",
    "    question_num += 1 ## 문제 번호 증가\n",
    "    print(score)\n",
    "\n"
   ]
  },
  {
   "cell_type": "code",
   "execution_count": null,
   "metadata": {},
   "outputs": [],
   "source": []
  }
 ],
 "metadata": {
  "kernelspec": {
   "display_name": "Python 3",
   "language": "python",
   "name": "python3"
  },
  "language_info": {
   "codemirror_mode": {
    "name": "ipython",
    "version": 3
   },
   "file_extension": ".py",
   "mimetype": "text/x-python",
   "name": "python",
   "nbconvert_exporter": "python",
   "pygments_lexer": "ipython3",
   "version": "3.7.6"
  }
 },
 "nbformat": 4,
 "nbformat_minor": 4
}
