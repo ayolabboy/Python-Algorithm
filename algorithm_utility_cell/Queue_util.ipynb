{
 "cells": [
  {
   "cell_type": "code",
   "execution_count": 1,
   "metadata": {},
   "outputs": [],
   "source": [
    "import queue\n",
    "data_queue = queue.Queue()\n"
   ]
  },
  {
   "cell_type": "code",
   "execution_count": 2,
   "metadata": {},
   "outputs": [],
   "source": [
    "\n",
    "# 데이터 넣기\n",
    "data_queue.put(\"korea\")\n",
    "data_queue.put(1)"
   ]
  },
  {
   "cell_type": "code",
   "execution_count": 3,
   "metadata": {},
   "outputs": [
    {
     "data": {
      "text/plain": [
       "2"
      ]
     },
     "execution_count": 3,
     "metadata": {},
     "output_type": "execute_result"
    }
   ],
   "source": [
    "data_queue.qsize()"
   ]
  },
  {
   "cell_type": "code",
   "execution_count": 4,
   "metadata": {},
   "outputs": [
    {
     "name": "stdout",
     "output_type": "stream",
     "text": [
      "korea\n"
     ]
    }
   ],
   "source": [
    "tmp = data_queue.get()\n",
    "print(tmp)"
   ]
  },
  {
   "cell_type": "code",
   "execution_count": 12,
   "metadata": {},
   "outputs": [
    {
     "name": "stdout",
     "output_type": "stream",
     "text": [
      "value : 0 size : 9\n",
      "value : 1 size : 8\n",
      "value : 2 size : 7\n",
      "value : 3 size : 6\n",
      "value : 4 size : 5\n",
      "value : 5 size : 4\n",
      "value : 6 size : 3\n",
      "value : 7 size : 2\n",
      "value : 8 size : 1\n",
      "value : 9 size : 0\n"
     ]
    }
   ],
   "source": [
    "import queue\n",
    "queue = queue.Queue()\n",
    "\n",
    "for i in range(0,10):\n",
    "    queue.put(i)\n",
    "\n",
    "size = queue.qsize() \n",
    "for i in range(0,size):\n",
    "    tmp = queue.get()\n",
    "    tmp_size = queue.qsize() \n",
    "    print(\"value :\",tmp,\"size :\",tmp_size)\n",
    "\n"
   ]
  },
  {
   "cell_type": "code",
   "execution_count": null,
   "metadata": {},
   "outputs": [],
   "source": []
  },
  {
   "cell_type": "code",
   "execution_count": null,
   "metadata": {},
   "outputs": [],
   "source": []
  }
 ],
 "metadata": {
  "kernelspec": {
   "display_name": "Python 3",
   "language": "python",
   "name": "python3"
  },
  "language_info": {
   "codemirror_mode": {
    "name": "ipython",
    "version": 3
   },
   "file_extension": ".py",
   "mimetype": "text/x-python",
   "name": "python",
   "nbconvert_exporter": "python",
   "pygments_lexer": "ipython3",
   "version": "3.7.6"
  }
 },
 "nbformat": 4,
 "nbformat_minor": 4
}
