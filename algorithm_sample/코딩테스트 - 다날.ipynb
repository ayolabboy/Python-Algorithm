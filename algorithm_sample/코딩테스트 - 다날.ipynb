{
 "cells": [
  {
   "cell_type": "code",
   "execution_count": 2,
   "metadata": {},
   "outputs": [
    {
     "name": "stdout",
     "output_type": "stream",
     "text": [
      "start\n"
     ]
    }
   ],
   "source": [
    "'''\n",
    "핸드폰을 이용해 알파벳을 입력하기 위해 아래 그림과 같은 키패드를 이용하려 합니다.\n",
    "\n",
    "\n",
    "각 버튼에는 3개씩의 알파벳(1번 버튼에는 '.'(마침표)와 2개의 알파벳)이 적혀있습니다. \n",
    "\n",
    "버튼을 한 번 누르면 화면에는 각 버튼에 적힌 문자 중 첫 번째 문자가 적힙니다. \n",
    "\n",
    "이어서 같은 버튼을 두 번, 세 번 연속해 누른다면 화면에 적힌 문자가 순서대로 두 번째, 세 번째 문자로 바뀝니다.\n",
    "\n",
    "예를 들어 A를 입력하기 위해서는 숫자 '2'가 적힌 버튼을 한 번, B를 입력하기 위해서는 두 번, C를 입력하기 위해서는\n",
    "\n",
    "세 번 눌러야 합니다.\n",
    "\n",
    "한 버튼에 적힌 문자를 연속으로 입력하고 싶을 때는 버튼의 입력 사이에 '0'이 적힌 버튼을 눌려야 합니다.\n",
    "\n",
    "예를 들어 AB를 입력하고 싶다면\n",
    "\n",
    "'2'가 적힌 버튼을 한 번 누릅니다.\n",
    "'0'이 적힌 버튼을 한 번 누릅니다.\n",
    "'2'가 적힌 버튼을 두 번 누릅니다.\n",
    "\n",
    "s\tresult\n",
    "44335550555666\tHELLO\n",
    "9666775553\tWORLD\n",
    "2220281\tCAT\n",
    "\n",
    "'''\n",
    "print(\"start\")"
   ]
  },
  {
   "cell_type": "code",
   "execution_count": 38,
   "metadata": {},
   "outputs": [],
   "source": [
    "def solution(s):\n",
    "    list_one = [\".\",\"Q\",\"Z\"]\n",
    "    list_two = [\"A\",\"B\",\"C\"]\n",
    "    list_three = [\"D\",\"E\",\"F\"]\n",
    "    list_four = [\"G\",\"H\",\"I\"]\n",
    "    list_five = [\"J\",\"K\",\"L\"]\n",
    "    list_six = [\"M\",\"N\",\"O\"]\n",
    "    list_seven = [\"P\",\"R\",\"S\"]\n",
    "    list_eight = [\"T\",\"U\",\"V\"]\n",
    "    list_nine = [\"W\",\"X\",\"Y\"]\n",
    "    \n",
    "    con_cnt = 0 \n",
    "    tmp_prev = \"\"\n",
    "    result = []\n",
    "    for num in s :\n",
    "        ## 이전 값 현재 값 비교하여 연속 카운트 체크 \n",
    "        if tmp_prev == num :\n",
    "            con_cnt+= 1\n",
    "        else : \n",
    "            con_cnt = 0\n",
    "        ## 이전 값 갱신     \n",
    "        tmp_prev = num \n",
    "        \n",
    "        if num == \"1\" : \n",
    "            if con_cnt == 0 :\n",
    "                result.append(list_one[0])\n",
    "            elif con_cnt == 1 :\n",
    "                result[len(result)-1] = list_one[1]\n",
    "            elif con_cnt == 2 :\n",
    "                result[len(result)-1] = list_one[2]\n",
    "                \n",
    "        if num == \"2\" : \n",
    "            if con_cnt == 0 :\n",
    "                result.append(list_two[0])\n",
    "            elif con_cnt == 1 :\n",
    "                result[len(result)-1] = list_two[1]\n",
    "            elif con_cnt == 2 :\n",
    "                result[len(result)-1] = list_two[2]\n",
    "                \n",
    "        if num == \"3\" : \n",
    "            if con_cnt == 0 :\n",
    "                result.append(list_three[0])\n",
    "            elif con_cnt == 1 :\n",
    "                result[len(result)-1] = list_three[1]\n",
    "            elif con_cnt == 2 :\n",
    "                result[len(result)-1] = list_three[2]\n",
    "                \n",
    "        if num == \"4\" : \n",
    "            if con_cnt == 0 :\n",
    "                result.append(list_four[0])\n",
    "            elif con_cnt == 1 :\n",
    "                result[len(result)-1] = list_four[1]\n",
    "            elif con_cnt == 2 :\n",
    "                result[len(result)-1] = list_four[2]\n",
    "                \n",
    "        if num == \"5\" : \n",
    "            if con_cnt == 0 :\n",
    "                result.append(list_five[0])\n",
    "            elif con_cnt == 1 :\n",
    "                result[len(result)-1] = list_five[1]\n",
    "            elif con_cnt == 2 :\n",
    "                result[len(result)-1] = list_five[2]\n",
    "\n",
    "        if num == \"6\" : \n",
    "            if con_cnt == 0 :\n",
    "                result.append(list_six[0])\n",
    "            elif con_cnt == 1 :\n",
    "                result[len(result)-1] = list_six[1]\n",
    "            elif con_cnt == 2 :\n",
    "                result[len(result)-1] = list_six[2]\n",
    "\n",
    "        if num == \"7\" : \n",
    "            if con_cnt == 0 :\n",
    "                result.append(list_seven[0])\n",
    "            elif con_cnt == 1 :\n",
    "                result[len(result)-1] = list_seven[1]\n",
    "            elif con_cnt == 2 :\n",
    "                result[len(result)-1] = list_seven[2]\n",
    "                \n",
    "        if num == \"8\" : \n",
    "            if con_cnt == 0 :\n",
    "                result.append(list_eight[0])\n",
    "            elif con_cnt == 1 :\n",
    "                result[len(result)-1] = list_eight[1]\n",
    "            elif con_cnt == 2 :\n",
    "                result[len(result)-1] = list_eight[2]\n",
    "                \n",
    "        if num == \"9\" : \n",
    "            if con_cnt == 0 :\n",
    "                result.append(list_nine[0])\n",
    "            elif con_cnt == 1 :\n",
    "                result[len(result)-1] = list_nine[1]\n",
    "            elif con_cnt == 2 :\n",
    "                result[len(result)-1] = list_nine[2]\n",
    "\n",
    "    answer = \"\".join(result)\n",
    "    return answer"
   ]
  },
  {
   "cell_type": "code",
   "execution_count": 39,
   "metadata": {},
   "outputs": [
    {
     "data": {
      "text/plain": [
       "'HELLO'"
      ]
     },
     "execution_count": 39,
     "metadata": {},
     "output_type": "execute_result"
    }
   ],
   "source": [
    "s = \"44335550555666\"\n",
    "solution(s)"
   ]
  },
  {
   "cell_type": "code",
   "execution_count": 40,
   "metadata": {},
   "outputs": [
    {
     "name": "stdout",
     "output_type": "stream",
     "text": [
      "start\n"
     ]
    }
   ],
   "source": [
    "'''\n",
    "배열 bombs에는 시한폭탄이 몇 초 후에 터지는지가 기록되어 있습니다. \n",
    "\n",
    "폭탄 한 개를 제거하는 데 1초가 걸리며, 폭탄이 터지는 시간과 폭탄 제거를 완료한 시간이 같더라도 폭탄은 터지지 않습니다.\n",
    "\n",
    "또 폭탄이 하나라도 터지면, 나머지 폭탄의 제거도 모두 실패한 것으로 간주합니다.\n",
    "\n",
    "예를들어\n",
    "\n",
    "bombs가 [3, 1, 2, 4]라면 bombs[1], bombs[2], bombs[0], bombs[3]순으로 제거해서 4개의 폭탄을 제거할 수 있습니다.\n",
    "bombs가 [2, 2, 2, 2]라면 어떤 순서로 제거하더라도 2개의 폭탄을 제거(2초 소요)한 후에는 나머지 2개의 폭탄은 터집니다.\n",
    "\n",
    "각 시한폭탄이 터지는 시간이 들어있는 배열 bombs가 매개변수로 주어질 때, \n",
    "\n",
    "제거할 수 있는 폭탄 개수의 최댓값을 return 하도록 solution 함수를 완성해 주세요.\n",
    "\n",
    "\n",
    "'''\n",
    "print(\"start\")"
   ]
  },
  {
   "cell_type": "code",
   "execution_count": 91,
   "metadata": {},
   "outputs": [],
   "source": [
    "def solution(bombs):\n",
    "    bombs_sorted = sorted(bombs)\n",
    "    \n",
    "    cnt = 0\n",
    "    for idx,bomb in enumerate(bombs_sorted):\n",
    "        print(idx+1,bomb)\n",
    "        if idx+1 > bomb : \n",
    "            cnt = idx\n",
    "            break;\n",
    "        else :\n",
    "            cnt +=1\n",
    "\n",
    "    answer = cnt\n",
    "    return answer"
   ]
  },
  {
   "cell_type": "code",
   "execution_count": 93,
   "metadata": {},
   "outputs": [
    {
     "name": "stdout",
     "output_type": "stream",
     "text": [
      "1 1\n",
      "2 1\n"
     ]
    },
    {
     "data": {
      "text/plain": [
       "1"
      ]
     },
     "execution_count": 93,
     "metadata": {},
     "output_type": "execute_result"
    }
   ],
   "source": [
    "bombs = [1, 1, 2, 2]\n",
    "solution(bombs)\n"
   ]
  },
  {
   "cell_type": "code",
   "execution_count": 96,
   "metadata": {},
   "outputs": [
    {
     "name": "stdout",
     "output_type": "stream",
     "text": [
      "start\n"
     ]
    }
   ],
   "source": [
    "'''\n",
    "주5일제인 회사의 직원이 휴가를 내고 n일간 여행을 가려고 합니다.\n",
    "\n",
    "이 때 여행 기간에 포함되는 휴일(토요일과 일요일)의 숫자는 무슨 요일부터 여행을 시작하는지에 따라 달라질 수 있습니다.\n",
    "\n",
    "예를 들어 6일간 여행을 간다고 했을 때\n",
    "\n",
    "월요일부터 여행을 간다면 월-화-수-목-금-토로 휴일이 하루만 포함됩니다.\n",
    "화요일부터 여행을 간다면 화-수-목-금-토-일로 휴일이 이틀 포함됩니다.\n",
    "무슨 요일에 여행을 시작하더라도 휴일이 1보다 적게 포함되거나, 2보다 많이 포함될 수는 없습니다.\n",
    "\n",
    "여행을 가려는 기간 n일 주어질 때, 해당 기간중에 포함되는 \n",
    "\n",
    "휴일(토요일, 일요일)의 최솟값과 최댓값을 return 하도록 solution 함수를 완성해주세요.\n",
    "\n",
    "입출력 예\n",
    "n\tresult\n",
    "6\t[1, 2]\n",
    "7\t[2, 2]\n",
    "\n",
    "'''\n",
    "\n",
    "print(\"start\")"
   ]
  },
  {
   "cell_type": "code",
   "execution_count": 340,
   "metadata": {},
   "outputs": [],
   "source": [
    "import math \n",
    "def solution(n):\n",
    "    answer = []\n",
    "    \n",
    "    min_dayoff = 0\n",
    "    max_dayoff = 0\n",
    "    \n",
    "    if n < 7 :\n",
    "        min_dayoff = 1\n",
    "        max_dayoff = 2\n",
    "    else :\n",
    "        max_dayoff = math.floor((n-2)/7)*2 + 2\n",
    "        min_dayoff = math.floor((n-6)/7)*2 + 2\n",
    "            \n",
    "        if  n%7  == 2 :\n",
    "            max_dayoff =  math.floor((n-2)/7 * 2  + 1)\n",
    "        if  n%7  == 6 :    \n",
    "            min_dayoff = math.floor((n-6)/7 * 2  + 1)\n",
    "            \n",
    "    answer = [min_dayoff,max_dayoff]\n",
    "    return answer"
   ]
  },
  {
   "cell_type": "code",
   "execution_count": 351,
   "metadata": {},
   "outputs": [
    {
     "data": {
      "text/plain": [
       "[6, 6]"
      ]
     },
     "execution_count": 351,
     "metadata": {},
     "output_type": "execute_result"
    }
   ],
   "source": [
    "n = 22\n",
    "solution(n)"
   ]
  },
  {
   "cell_type": "code",
   "execution_count": null,
   "metadata": {},
   "outputs": [],
   "source": []
  },
  {
   "cell_type": "code",
   "execution_count": null,
   "metadata": {},
   "outputs": [],
   "source": []
  }
 ],
 "metadata": {
  "kernelspec": {
   "display_name": "Python 3",
   "language": "python",
   "name": "python3"
  },
  "language_info": {
   "codemirror_mode": {
    "name": "ipython",
    "version": 3
   },
   "file_extension": ".py",
   "mimetype": "text/x-python",
   "name": "python",
   "nbconvert_exporter": "python",
   "pygments_lexer": "ipython3",
   "version": "3.7.6"
  }
 },
 "nbformat": 4,
 "nbformat_minor": 4
}
