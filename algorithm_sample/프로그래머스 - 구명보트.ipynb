{
 "cells": [
  {
   "cell_type": "code",
   "execution_count": 1,
   "metadata": {},
   "outputs": [
    {
     "name": "stdout",
     "output_type": "stream",
     "text": [
      "start\n"
     ]
    }
   ],
   "source": [
    "'''\n",
    "https://programmers.co.kr/learn/courses/30/lessons/42885\n",
    "\n",
    "무인도에 갇힌 사람들을 구명보트를 이용하여 구출하려고 합니다. \n",
    "구명보트는 작아서 한 번에 최대 2명씩 밖에 탈 수 없고, 무게 제한도 있습니다.\n",
    "\n",
    "예를 들어, 사람들의 몸무게가 [70kg, 50kg, 80kg, 50kg]이고 \n",
    "구명보트의 무게 제한이 100kg이라면 2번째 사람과 4번째 사람은 같이 탈 수 있지만\n",
    "1번째 사람과 3번째 사람의 무게의 합은 150kg이므로 구명보트의 무게 제한을 초과하여 같이 탈 수 없습니다.\n",
    "\n",
    "구명보트를 최대한 적게 사용하여 모든 사람을 구출하려고 합니다.\n",
    "\n",
    "사람들의 몸무게를 담은 배열 people과 구명보트의 무게 제한 limit가 매개변수로 주어질 때, \n",
    "모든 사람을 구출하기 위해 필요한 구명보트 개수의 최솟값을 return 하도록 solution 함수를 작성해주세요.\n",
    "\n",
    "people\t            limit \treturn\n",
    "[70, 50, 80, 50]\t100 \t3\n",
    "[70, 80, 50]\t    100  \t3\n",
    "\n",
    "'''\n",
    "print(\"start\")"
   ]
  },
  {
   "cell_type": "code",
   "execution_count": 65,
   "metadata": {},
   "outputs": [],
   "source": [
    "def solution(people, limit):\n",
    "\n",
    "    cnt = 0\n",
    "    for i in range(len(people)):\n",
    "        tmp_sum = 0\n",
    "        for j in (range(i+1,len(people))):\n",
    "            tmp_sum = people[i] + people[j]\n",
    "            \n",
    "            if tmp_sum <= limit : \n",
    "                cnt += 1\n",
    "            else : \n",
    "                tmp_sum = 0\n",
    "\n",
    "    answer = len(people) - cnt\n",
    "    return answer"
   ]
  },
  {
   "cell_type": "code",
   "execution_count": 66,
   "metadata": {},
   "outputs": [
    {
     "data": {
      "text/plain": [
       "3"
      ]
     },
     "execution_count": 66,
     "metadata": {},
     "output_type": "execute_result"
    }
   ],
   "source": [
    "people = [70, 50, 80, 50]\n",
    "limit = 100\n",
    "\n",
    "solution(people,limit)"
   ]
  },
  {
   "cell_type": "code",
   "execution_count": 67,
   "metadata": {},
   "outputs": [],
   "source": [
    "\n",
    "def solution(people, limit):\n",
    "    people.sort()\n",
    "    count = 0\n",
    "\n",
    "    first = 0\n",
    "    last = len(people) - 1\n",
    "    while first < last:\n",
    "        if people[first] + people[last] <= limit:\n",
    "            first += 1\n",
    "\n",
    "        last -= 1\n",
    "\n",
    "        count += 1\n",
    "\n",
    "    if first == last:\n",
    "        count += 1\n",
    "\n",
    "    return count"
   ]
  },
  {
   "cell_type": "code",
   "execution_count": 68,
   "metadata": {},
   "outputs": [
    {
     "data": {
      "text/plain": [
       "3"
      ]
     },
     "execution_count": 68,
     "metadata": {},
     "output_type": "execute_result"
    }
   ],
   "source": [
    "people = [70, 50, 80, 50]\n",
    "limit = 100\n",
    "\n",
    "solution(people,limit)"
   ]
  },
  {
   "cell_type": "code",
   "execution_count": null,
   "metadata": {},
   "outputs": [],
   "source": []
  }
 ],
 "metadata": {
  "kernelspec": {
   "display_name": "Python 3",
   "language": "python",
   "name": "python3"
  },
  "language_info": {
   "codemirror_mode": {
    "name": "ipython",
    "version": 3
   },
   "file_extension": ".py",
   "mimetype": "text/x-python",
   "name": "python",
   "nbconvert_exporter": "python",
   "pygments_lexer": "ipython3",
   "version": "3.7.6"
  }
 },
 "nbformat": 4,
 "nbformat_minor": 4
}
