{
 "cells": [
  {
   "cell_type": "code",
   "execution_count": 1,
   "metadata": {},
   "outputs": [
    {
     "name": "stdout",
     "output_type": "stream",
     "text": [
      "[1, 2]\n",
      "2\n",
      "1\n"
     ]
    }
   ],
   "source": [
    "stk = []\n",
    "stk.append(1)     # 1 을 리스트에 넣음 \n",
    "stk.append(2)     # 2 를 리스트에 넣음\n",
    "print(stk)        # 리스트 출력 [1, 2]\n",
    "print(stk.pop())  # 2 가 꺼내지면서 출력 됨\n",
    "print(stk.pop())  # 1 이 꺼내지면서 출력 됨\n"
   ]
  },
  {
   "cell_type": "code",
   "execution_count": 2,
   "metadata": {},
   "outputs": [
    {
     "name": "stdout",
     "output_type": "stream",
     "text": [
      "[0, 1, 2, 3, 4, 5, 6, 7, 8, 9]\n",
      "9\n",
      "8\n",
      "7\n",
      "6\n",
      "5\n",
      "[0, 1, 2, 3, 4]\n"
     ]
    }
   ],
   "source": [
    "stk = []\n",
    "for i in range(0,10):\n",
    "    stk.append(i)\n",
    "    \n",
    "print(stk) \n",
    "\n",
    "for i in range(stk:\n",
    "    tmp = stk.pop()\n",
    "    print(tmp)\n",
    "    \n",
    "print(stk) "
   ]
  },
  {
   "cell_type": "code",
   "execution_count": null,
   "metadata": {},
   "outputs": [],
   "source": []
  }
 ],
 "metadata": {
  "kernelspec": {
   "display_name": "Python 3",
   "language": "python",
   "name": "python3"
  },
  "language_info": {
   "codemirror_mode": {
    "name": "ipython",
    "version": 3
   },
   "file_extension": ".py",
   "mimetype": "text/x-python",
   "name": "python",
   "nbconvert_exporter": "python",
   "pygments_lexer": "ipython3",
   "version": "3.7.6"
  }
 },
 "nbformat": 4,
 "nbformat_minor": 4
}
