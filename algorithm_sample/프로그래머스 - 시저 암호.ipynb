{
 "cells": [
  {
   "cell_type": "code",
   "execution_count": 2,
   "metadata": {},
   "outputs": [
    {
     "name": "stdout",
     "output_type": "stream",
     "text": [
      "start\n"
     ]
    }
   ],
   "source": [
    "'''\n",
    "https://programmers.co.kr/learn/courses/30/lessons/12926\n",
    "\n",
    "어떤 문장의 각 알파벳을 일정한 거리만큼 밀어서 다른 알파벳으로 바꾸는 암호화 방식을 시저 암호라고 합니다. \n",
    "\n",
    "예를 들어 AB는 1만큼 밀면 BC가 되고, 3만큼 밀면 DE가 됩니다. z는 1만큼 밀면 a가 됩니다. \n",
    "\n",
    "문자열 s와 거리 n을 입력받아 s를 n만큼 민 암호문을 만드는 함수, solution을 완성해 보세요.\n",
    "\n",
    "'''\n",
    "print(\"start\")"
   ]
  },
  {
   "cell_type": "code",
   "execution_count": 24,
   "metadata": {},
   "outputs": [],
   "source": [
    "# ASCII\n",
    "# a - z :: 97 ~ 122\n",
    "# A - Z :: 65 ~ 90\n",
    "def solution(s, n):\n",
    "    result = \"\"\n",
    "    \n",
    "    for data in s:\n",
    "        ASCII_data = ord(data) ## 아스키로 변환 \n",
    "        \n",
    "        if ASCII_data >= 65 and ASCII_data <= 90 : ## 대문자 케이스 \n",
    "            ASCII_data += n \n",
    "            if ASCII_data > 90 : ## z 이후 ad\n",
    "                ASCII_data -= 26\n",
    "            \n",
    "        elif ASCII_data >= 97 and ASCII_data <= 122 : ## 소문자 케이스 \n",
    "            ASCII_data += n \n",
    "            if ASCII_data > 122 : ## 범위 초과 시 26 감소 \n",
    "                ASCII_data -= 26\n",
    "\n",
    "        ASCII_char = chr(ASCII_data)\n",
    "        result += ASCII_char\n",
    "        \n",
    "    answer = result\n",
    "    return answer"
   ]
  },
  {
   "cell_type": "code",
   "execution_count": 28,
   "metadata": {},
   "outputs": [
    {
     "data": {
      "text/plain": [
       "'BCda'"
      ]
     },
     "execution_count": 28,
     "metadata": {},
     "output_type": "execute_result"
    }
   ],
   "source": [
    "s = \"ABcz\"\n",
    "n = 1\n",
    "solution(s, n)"
   ]
  },
  {
   "cell_type": "code",
   "execution_count": 23,
   "metadata": {},
   "outputs": [
    {
     "name": "stdout",
     "output_type": "stream",
     "text": [
      "97\n",
      "122\n",
      "65\n",
      "90\n"
     ]
    }
   ],
   "source": [
    "print(ord(\"a\"))\n",
    "print(ord(\"z\"))\n",
    "print(ord(\"A\"))\n",
    "print(ord(\"Z\"))"
   ]
  },
  {
   "cell_type": "code",
   "execution_count": null,
   "metadata": {},
   "outputs": [],
   "source": [
    "a - z :: 97 ~ 122\n",
    "A - Z :: 65 ~ 90"
   ]
  },
  {
   "cell_type": "code",
   "execution_count": null,
   "metadata": {},
   "outputs": [],
   "source": []
  }
 ],
 "metadata": {
  "kernelspec": {
   "display_name": "Python 3",
   "language": "python",
   "name": "python3"
  },
  "language_info": {
   "codemirror_mode": {
    "name": "ipython",
    "version": 3
   },
   "file_extension": ".py",
   "mimetype": "text/x-python",
   "name": "python",
   "nbconvert_exporter": "python",
   "pygments_lexer": "ipython3",
   "version": "3.7.6"
  }
 },
 "nbformat": 4,
 "nbformat_minor": 4
}
