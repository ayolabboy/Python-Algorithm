{
 "cells": [
  {
   "cell_type": "code",
   "execution_count": 1,
   "metadata": {},
   "outputs": [
    {
     "name": "stdout",
     "output_type": "stream",
     "text": [
      "BAPC\n"
     ]
    }
   ],
   "source": [
    "\n",
    "    left_stack = []\n",
    "    right_stack = []\n",
    "    data = list(\"<<BP<A>>Cd-\")\n",
    "    for i in data:\n",
    "        if i == '-': ## 해당 조건 만족시 왼쪽 팝 실행 \n",
    "            if left_stack:\n",
    "                left_stack.pop()\n",
    "        elif i == '<': ## 해당 조건 만족 시 왼쪽에 있는 것을 떼다가 오른쪽에 붙임 \n",
    "            if left_stack:\n",
    "                right_stack.append(left_stack.pop())\n",
    "        elif i == '>': ## 해당 조건 만족 시 오른쪽에 있는 것 떼다가 왼쪽에 붙임\n",
    "            if right_stack:\n",
    "                left_stack.append(right_stack.pop())        \n",
    "        else: ## 해당 조건 만족시 왼쪽에 어팬드 \n",
    "            left_stack.append(i)\n",
    "        \n",
    "    left_stack.extend(reversed(right_stack)) ## 오른쪽에 있는 것 뒤집어서 왼쪽에 붙임\n",
    "    print(''.join(left_stack)) ## 문자열로 출력 \n",
    "    \n"
   ]
  },
  {
   "cell_type": "code",
   "execution_count": null,
   "metadata": {},
   "outputs": [],
   "source": []
  }
 ],
 "metadata": {
  "kernelspec": {
   "display_name": "Python 3",
   "language": "python",
   "name": "python3"
  },
  "language_info": {
   "codemirror_mode": {
    "name": "ipython",
    "version": 3
   },
   "file_extension": ".py",
   "mimetype": "text/x-python",
   "name": "python",
   "nbconvert_exporter": "python",
   "pygments_lexer": "ipython3",
   "version": "3.7.6"
  }
 },
 "nbformat": 4,
 "nbformat_minor": 4
}
