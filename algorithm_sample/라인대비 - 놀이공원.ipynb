{
 "cells": [
  {
   "cell_type": "code",
   "execution_count": 39,
   "metadata": {},
   "outputs": [],
   "source": [
    "# b : 문연 매표소 수 \n",
    "# c : 각 그룹의 손님 수 \n",
    "## 그룹을 문 연 매표소로 알맞게 배치하여 가장 빠르게 입장을 시키고 그 시간을 계산하라 \n",
    "\n",
    "def solution (b,num_ingroup):\n",
    "    \n",
    "    ticket_office = []\n",
    "    for i in range(b):\n",
    "        ticket_office.append(0)\n",
    "\n",
    "    for idx, data in enumerate(num_ingroup):\n",
    "        tmp_idx = ticket_office.index(min(ticket_office)) ## 최소값 idx\n",
    "        ticket_office[tmp_idx] += data\n",
    "        \n",
    "    print(ticket_office)\n",
    "    answer = max(ticket_office)\n",
    "    return answer"
   ]
  },
  {
   "cell_type": "code",
   "execution_count": 41,
   "metadata": {},
   "outputs": [
    {
     "name": "stdout",
     "output_type": "stream",
     "text": [
      "[12, 5, 5]\n"
     ]
    },
    {
     "data": {
      "text/plain": [
       "12"
      ]
     },
     "execution_count": 41,
     "metadata": {},
     "output_type": "execute_result"
    }
   ],
   "source": [
    "b = 3\n",
    "num_ingroup = [4,3,5,2,8]\n",
    "\n",
    "solution(b,num_ingroup)"
   ]
  },
  {
   "cell_type": "code",
   "execution_count": 33,
   "metadata": {},
   "outputs": [
    {
     "ename": "SyntaxError",
     "evalue": "invalid syntax (<ipython-input-33-d61741363191>, line 2)",
     "output_type": "error",
     "traceback": [
      "\u001b[1;36m  File \u001b[1;32m\"<ipython-input-33-d61741363191>\"\u001b[1;36m, line \u001b[1;32m2\u001b[0m\n\u001b[1;33m    listt.index(  maximum value )\u001b[0m\n\u001b[1;37m                              ^\u001b[0m\n\u001b[1;31mSyntaxError\u001b[0m\u001b[1;31m:\u001b[0m invalid syntax\n"
     ]
    }
   ],
   "source": [
    "\n",
    "listt = [1,2,3,4,5]\n",
    "listt.index(  maximum value )"
   ]
  },
  {
   "cell_type": "code",
   "execution_count": 34,
   "metadata": {},
   "outputs": [
    {
     "data": {
      "text/plain": [
       "2"
      ]
     },
     "execution_count": 34,
     "metadata": {},
     "output_type": "execute_result"
    }
   ],
   "source": [
    "nList = [3, 5, 1, 2, 7, 8, 5]\n",
    "nList.index(min(nList))\n"
   ]
  },
  {
   "cell_type": "code",
   "execution_count": null,
   "metadata": {},
   "outputs": [],
   "source": []
  }
 ],
 "metadata": {
  "kernelspec": {
   "display_name": "Python 3",
   "language": "python",
   "name": "python3"
  },
  "language_info": {
   "codemirror_mode": {
    "name": "ipython",
    "version": 3
   },
   "file_extension": ".py",
   "mimetype": "text/x-python",
   "name": "python",
   "nbconvert_exporter": "python",
   "pygments_lexer": "ipython3",
   "version": "3.7.6"
  }
 },
 "nbformat": 4,
 "nbformat_minor": 4
}
