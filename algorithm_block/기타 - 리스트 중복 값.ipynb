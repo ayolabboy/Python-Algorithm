{
 "cells": [
  {
   "cell_type": "code",
   "execution_count": null,
   "metadata": {},
   "outputs": [],
   "source": [
    "## 리스트 안의 값이 전부 동일한지 판단\n",
    "#test_list = [1,2,3,4,5]\n",
    "test_list = [1,1,1,1,1]\n",
    "\n",
    "if len(set(test_list)) == 1:\n",
    "    print(True)\n",
    "else :\n",
    "    print(False)"
   ]
  },
  {
   "cell_type": "code",
   "execution_count": 4,
   "metadata": {},
   "outputs": [
    {
     "name": "stdout",
     "output_type": "stream",
     "text": [
      "[1, 2, 3, 4, 5]\n"
     ]
    }
   ],
   "source": [
    "## 중복 값 제거 \n",
    "# 집합으로 변환\n",
    "my_list = [1,2,3,4,5,5]\n",
    "my_set = set(my_list)\n",
    "\n",
    "# 리스트로 변환\n",
    "new_list = list(my_set)\n",
    "\n",
    "\n",
    "print(new_list)"
   ]
  },
  {
   "cell_type": "code",
   "execution_count": 7,
   "metadata": {},
   "outputs": [
    {
     "name": "stdout",
     "output_type": "stream",
     "text": [
      "[1, 2, 3, 4, 5]\n",
      "{1: 1, 2: 1, 3: 1, 4: 1, 5: 2}\n"
     ]
    }
   ],
   "source": [
    "my_list = [1,2,3,4,5,5]\n",
    "\n",
    "new_list =list(set(my_list))\n",
    "print(new_list)\n",
    "\n",
    "result=dict()\n",
    "\n",
    "for idx in new_list:\n",
    "    result[idx] = my_list.count(idx)\n",
    "\n",
    " \n",
    "\n",
    "print(result)"
   ]
  },
  {
   "cell_type": "code",
   "execution_count": null,
   "metadata": {},
   "outputs": [],
   "source": []
  }
 ],
 "metadata": {
  "kernelspec": {
   "display_name": "Python 3",
   "language": "python",
   "name": "python3"
  },
  "language_info": {
   "codemirror_mode": {
    "name": "ipython",
    "version": 3
   },
   "file_extension": ".py",
   "mimetype": "text/x-python",
   "name": "python",
   "nbconvert_exporter": "python",
   "pygments_lexer": "ipython3",
   "version": "3.7.6"
  }
 },
 "nbformat": 4,
 "nbformat_minor": 4
}
