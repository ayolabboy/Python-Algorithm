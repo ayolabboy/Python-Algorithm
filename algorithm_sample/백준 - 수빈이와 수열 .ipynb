{
 "cells": [
  {
   "cell_type": "code",
   "execution_count": null,
   "metadata": {},
   "outputs": [],
   "source": [
    "'''\n",
    "수빈이는 심심해서 수열을 가지고 놀고 있다. 먼저, 정수 수열 A를 쓴다. 그리고 그 아래에 정수 수열 \n",
    "\n",
    "A의 해당 항까지의 평균값을 그 항으로 하는 정수 수열 B를 쓴다. \n",
    "\n",
    "예를 들어, 수열 A가 1, 3, 2, 6, 8이라면, \n",
    "\n",
    "수열 B는 1/1, (1+3)/2, (1+3+2)/3, (1+3+2+6)/4, (1+3+2+6+8)/5, 즉, 1, 2, 2, 3, 4가 된다. \n",
    "\n",
    "수열 B가 주어질 때, 수빈이의 규칙에 따른 수열 A는 뭘까?\n",
    "\n",
    "입력\n",
    "첫째 줄에는 수열 B의 길이만큼 정수 N(1 ≤ N ≤ 100)이 주어지고, \n",
    "둘째 줄에는 수열 Bi를 이루는 N개의 정수가 주어진다. (1 ≤ Bi ≤ 109)\n",
    "\n",
    "출력\n",
    "첫째 줄에는 수열 A를 이루는 N개의 정수를 출력한다. (1 ≤ Ai ≤ 109)\n",
    "\n",
    "ㅡㅡㅡㅡㅡㅡㅡㅡㅡㅡㅡㅡㅡㅡㅡㅡㅡㅡㅡㅡㅡㅡㅡㅡㅡㅡㅡㅡㅡㅡㅡㅡㅡㅡㅡㅡㅡㅡㅡㅡ\n",
    "예제 입력 1 \n",
    "1\n",
    "2\n",
    "예제 출력 1 \n",
    "2\n",
    "ㅡㅡㅡㅡㅡㅡㅡㅡㅡㅡㅡㅡㅡㅡㅡㅡㅡㅡㅡㅡㅡㅡㅡㅡㅡㅡㅡㅡㅡㅡㅡㅡㅡㅡㅡㅡㅡㅡㅡㅡ\n",
    "예제 입력 2 \n",
    "4\n",
    "3 2 3 5\n",
    "예제 출력 2 \n",
    "3 1 5 11\n",
    "ㅡㅡㅡㅡㅡㅡㅡㅡㅡㅡㅡㅡㅡㅡㅡㅡㅡㅡㅡㅡㅡㅡㅡㅡㅡㅡㅡㅡㅡㅡㅡㅡㅡㅡㅡㅡㅡㅡㅡㅡ\n",
    "예제 입력 3 \n",
    "5\n",
    "1 2 2 3 4\n",
    "예제 출력 3 \n",
    "1 3 2 6 8\n",
    "ㅡㅡㅡㅡㅡㅡㅡㅡㅡㅡㅡㅡㅡㅡㅡㅡㅡㅡㅡㅡㅡㅡㅡㅡㅡㅡㅡㅡㅡㅡㅡㅡㅡㅡㅡㅡㅡㅡㅡㅡ\n",
    "'''\n",
    "print(\"123\")"
   ]
  },
  {
   "cell_type": "code",
   "execution_count": 4,
   "metadata": {
    "scrolled": true
   },
   "outputs": [
    {
     "name": "stdout",
     "output_type": "stream",
     "text": [
      "4\n",
      "3 2 3 5\n",
      "[3]\n",
      "0\n",
      "[3, 1]\n",
      "1\n",
      "[3, 1, 5]\n",
      "2\n",
      "[3, 1, 5, 11]\n",
      "3\n",
      "[3, 1, 5, 11]\n"
     ]
    }
   ],
   "source": [
    "N, B = int(input()),list(map(int,input().split()))\n",
    "\n",
    "A = []\n",
    "\n",
    "cnt = 0 \n",
    "for i in B:   \n",
    "    A.append(B[cnt]*(cnt+1) - sum(A))\n",
    "    print(A)\n",
    "    print(cnt)\n",
    "    cnt += 1 \n",
    "\n",
    "print(A)\n",
    "\n",
    "\n",
    "\n",
    "\n"
   ]
  },
  {
   "cell_type": "code",
   "execution_count": null,
   "metadata": {},
   "outputs": [],
   "source": []
  }
 ],
 "metadata": {
  "kernelspec": {
   "display_name": "Python 3",
   "language": "python",
   "name": "python3"
  },
  "language_info": {
   "codemirror_mode": {
    "name": "ipython",
    "version": 3
   },
   "file_extension": ".py",
   "mimetype": "text/x-python",
   "name": "python",
   "nbconvert_exporter": "python",
   "pygments_lexer": "ipython3",
   "version": "3.7.6"
  }
 },
 "nbformat": 4,
 "nbformat_minor": 4
}
