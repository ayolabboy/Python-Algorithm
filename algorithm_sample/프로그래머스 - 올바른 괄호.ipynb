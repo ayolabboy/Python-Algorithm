{
 "cells": [
  {
   "cell_type": "code",
   "execution_count": 2,
   "metadata": {},
   "outputs": [
    {
     "name": "stdout",
     "output_type": "stream",
     "text": [
      "start\n"
     ]
    }
   ],
   "source": [
    "'''\n",
    "https://programmers.co.kr/learn/courses/30/lessons/12909\n",
    "\n",
    "괄호가 바르게 짝지어졌다는 것은 '(' 문자로 열렸으면 반드시 짝지어서 ')' 문자로 닫혀야 한다는 뜻입니다. 예를 들어\n",
    "\n",
    "()() 또는 (())() 는 올바른 괄호입니다.\n",
    ")()( 또는 (()( 는 올바르지 않은 괄호입니다.\n",
    "\n",
    "s\tanswer\n",
    "()()\ttrue\n",
    "(())()\ttrue\n",
    ")()(\tfalse\n",
    "(()(\tfalse\n",
    "\n",
    "'('인 경우에는 result를 ++ 해주고\n",
    "')'인 경우에는 result를 -- 해주었다.\n",
    "\n",
    "result가 음수가 되는 경우는 '(' 열리기 전에 ')' 단힌 경우이므로 바로 false를 return 하였고\n",
    "\n",
    "모든 문자열 처리가 끝난 이후에 0보다 큰 경우도 '('가 더 많다는 의미가 되므로 false를 return 하였다.\n",
    "\n",
    "result가 0 인 경우는 열린 만큼 닫은 것이기 때문에 true를 return 한다.\n",
    "\n",
    "'''\n",
    "print(\"start\")"
   ]
  },
  {
   "cell_type": "code",
   "execution_count": 21,
   "metadata": {},
   "outputs": [],
   "source": [
    "def solution(s):\n",
    "\n",
    "    result = 0\n",
    "    for data in s :\n",
    "        if result < 0 : \n",
    "            return False\n",
    "        if data == \"(\" : \n",
    "            result += 1\n",
    "        elif data == \")\" : \n",
    "            result -= 1\n",
    "    \n",
    "    if result == 0 :\n",
    "        return True\n",
    "    else :\n",
    "        return False\n"
   ]
  },
  {
   "cell_type": "code",
   "execution_count": 22,
   "metadata": {},
   "outputs": [
    {
     "data": {
      "text/plain": [
       "True"
      ]
     },
     "execution_count": 22,
     "metadata": {},
     "output_type": "execute_result"
    }
   ],
   "source": [
    "#s = \"()()\"\n",
    "s = \"(()())()\"\n",
    "\n",
    "solution(s)"
   ]
  },
  {
   "cell_type": "code",
   "execution_count": null,
   "metadata": {},
   "outputs": [],
   "source": []
  }
 ],
 "metadata": {
  "kernelspec": {
   "display_name": "Python 3",
   "language": "python",
   "name": "python3"
  },
  "language_info": {
   "codemirror_mode": {
    "name": "ipython",
    "version": 3
   },
   "file_extension": ".py",
   "mimetype": "text/x-python",
   "name": "python",
   "nbconvert_exporter": "python",
   "pygments_lexer": "ipython3",
   "version": "3.7.6"
  }
 },
 "nbformat": 4,
 "nbformat_minor": 4
}
