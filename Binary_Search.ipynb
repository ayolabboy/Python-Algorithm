{
 "cells": [
  {
   "cell_type": "code",
   "execution_count": 2,
   "metadata": {},
   "outputs": [],
   "source": [
    " def binary_search(data,search):\n",
    "        if len(data) == 1 and search == data[0]:\n",
    "            return True \n",
    "        if len(data) == 1 and search != data[0]:\n",
    "            return False\n",
    "        if len(data) == 0 :\n",
    "            return False \n",
    "        \n",
    "        medium = len(data) // 2 \n",
    "        if search == data[medium]:\n",
    "            return True\n",
    "        else:\n",
    "            if search > data[medium]:\n",
    "                return binary_search(data[medium:],search) ## 중간 값부터 서치까지 \n",
    "            else :\n",
    "                return binary_search(data[:medium],search) ## 서치부터 중간값 까지 "
   ]
  },
  {
   "cell_type": "code",
   "execution_count": 4,
   "metadata": {
    "scrolled": true
   },
   "outputs": [],
   "source": [
    "import random\n",
    "data_list = random.sample(range(100),10)\n",
    "data_list.sort()"
   ]
  },
  {
   "cell_type": "code",
   "execution_count": 5,
   "metadata": {},
   "outputs": [
    {
     "name": "stdout",
     "output_type": "stream",
     "text": [
      "[4, 13, 22, 54, 60, 61, 64, 67, 73, 86]\n"
     ]
    }
   ],
   "source": [
    "print(data_list)"
   ]
  },
  {
   "cell_type": "code",
   "execution_count": null,
   "metadata": {},
   "outputs": [],
   "source": []
  }
 ],
 "metadata": {
  "kernelspec": {
   "display_name": "Python 3",
   "language": "python",
   "name": "python3"
  },
  "language_info": {
   "codemirror_mode": {
    "name": "ipython",
    "version": 3
   },
   "file_extension": ".py",
   "mimetype": "text/x-python",
   "name": "python",
   "nbconvert_exporter": "python",
   "pygments_lexer": "ipython3",
   "version": "3.7.6"
  }
 },
 "nbformat": 4,
 "nbformat_minor": 4
}
