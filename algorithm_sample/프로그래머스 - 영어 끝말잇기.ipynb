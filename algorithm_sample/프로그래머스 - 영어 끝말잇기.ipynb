{
 "cells": [
  {
   "cell_type": "code",
   "execution_count": 1,
   "metadata": {},
   "outputs": [
    {
     "name": "stdout",
     "output_type": "stream",
     "text": [
      "start\n"
     ]
    }
   ],
   "source": [
    "'''\n",
    "https://programmers.co.kr/learn/courses/30/lessons/12981\n",
    "\n",
    "1부터 n까지 번호가 붙어있는 n명의 사람이 영어 끝말잇기를 하고 있습니다. \n",
    "\n",
    "영어 끝말잇기는 다음과 같은 규칙으로 진행됩니다.\n",
    "\n",
    "1번부터 번호 순서대로 한 사람씩 차례대로 단어를 말합니다.\n",
    "마지막 사람이 단어를 말한 다음에는 다시 1번부터 시작합니다.\n",
    "앞사람이 말한 단어의 마지막 문자로 시작하는 단어를 말해야 합니다.\n",
    "이전에 등장했던 단어는 사용할 수 없습니다.\n",
    "한 글자인 단어는 인정되지 않습니다.\n",
    "\n",
    "사람의 수 n과 사람들이 순서대로 말한 단어 words 가 매개변수로 주어질 때, \n",
    "\n",
    "가장 먼저 탈락하는 사람의 번호와 그 사람이 자신의 몇 번째 차례에 탈락하는지를 구해서 \n",
    "\n",
    "return 하도록 solution 함수를 완성해주세요.\n",
    "\n",
    "입출력 예\n",
    "n\twords\n",
    "result\n",
    "\n",
    "3\t[tank, kick, know, wheel, land, dream, mother, robot, tank]\n",
    "[3,3]\n",
    "5\t[hello, observe, effect, take, either, recognize, encourage, ensure, establish, hang, gather, refer, reference, estimate, executive]\n",
    "[0,0]\n",
    "2\t[hello, one, even, never, now, world, draw]\n",
    "[1,3]\n",
    "\n",
    "'''\n",
    "print(\"start\")"
   ]
  },
  {
   "cell_type": "code",
   "execution_count": 89,
   "metadata": {},
   "outputs": [],
   "source": [
    "def solution(n, words):\n",
    "    answer = []\n",
    "    \n",
    "    prev_words = []\n",
    "    for idx, data in enumerate(words) : \n",
    "        \n",
    "        prev_words.append(data)\n",
    "        result_val = Valid_word(prev_words)  \n",
    "        if result_val == -1 : \n",
    "            fail_person = idx % n + 1\n",
    "            fail_turn = int((idx +2)/ n)\n",
    "            return list((fail_person,fail_turn))\n",
    "        \n",
    "        if result_val != 0 :\n",
    "            fail_person = result_val%n + 1\n",
    "            fail_turn = int((result_val+1)/ n)\n",
    "            return list((fail_person,fail_turn))\n",
    "\n",
    "    return [0,0]\n",
    "\n",
    "def Valid_word(prev_words) : \n",
    "    \n",
    "    if len(prev_words) == 1 : \n",
    "        return 0\n",
    "    \n",
    "    elif len(prev_words) >= 2 : \n",
    "        prev_word = prev_words[len(prev_words)-2]\n",
    "        now_word = prev_words[len(prev_words)-1]\n",
    "        if prev_word[len(prev_word)-1] != now_word[0] :\n",
    "            return -1\n",
    "\n",
    "    for i in range(0,len(prev_words)): ## 0 ~ length of prices\n",
    "        for j in range(i+1, len(prev_words)) : ## 현재 것을 기준으로 다음 숫자들과 비교 \n",
    "            if prev_words[i] == prev_words[j] : \n",
    "                return j\n",
    "    return 0\n",
    "\n"
   ]
  },
  {
   "cell_type": "code",
   "execution_count": 90,
   "metadata": {},
   "outputs": [
    {
     "name": "stdout",
     "output_type": "stream",
     "text": [
      "aya\n"
     ]
    },
    {
     "data": {
      "text/plain": [
       "[1, 3]"
      ]
     },
     "execution_count": 90,
     "metadata": {},
     "output_type": "execute_result"
    }
   ],
   "source": [
    "n = 2\n",
    "words = [\"hello\", \"one\", \"even\", \"never\", \"now\", \"world\", \"draw\"]\n",
    "\n",
    "solution(n,words)"
   ]
  },
  {
   "cell_type": "code",
   "execution_count": 17,
   "metadata": {},
   "outputs": [
    {
     "name": "stdout",
     "output_type": "stream",
     "text": [
      "{'tank': 2, 'dream': 1, 'robot': 1, 'mother': 1, 'land': 1, 'wheel': 1, 'know': 1, 'kick': 1}\n"
     ]
    }
   ],
   "source": [
    "\n",
    "## 리스트 내부 중복 요소 수 체크 \n",
    "my_list = [\"tank\", \"kick\", \"know\", \"wheel\", \"land\", \"dream\", \"mother\", \"robot\", \"tank\"]\n",
    "\n",
    "new_list =list(set(my_list))\n",
    "\n",
    "result=dict()\n",
    "\n",
    "for idx in new_list:\n",
    "    result[idx] = my_list.count(idx)\n",
    "\n",
    "print(result)"
   ]
  },
  {
   "cell_type": "code",
   "execution_count": null,
   "metadata": {},
   "outputs": [],
   "source": []
  },
  {
   "cell_type": "code",
   "execution_count": null,
   "metadata": {},
   "outputs": [],
   "source": []
  }
 ],
 "metadata": {
  "kernelspec": {
   "display_name": "Python 3",
   "language": "python",
   "name": "python3"
  },
  "language_info": {
   "codemirror_mode": {
    "name": "ipython",
    "version": 3
   },
   "file_extension": ".py",
   "mimetype": "text/x-python",
   "name": "python",
   "nbconvert_exporter": "python",
   "pygments_lexer": "ipython3",
   "version": "3.7.6"
  }
 },
 "nbformat": 4,
 "nbformat_minor": 4
}
